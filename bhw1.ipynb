{
 "cells": [
  {
   "cell_type": "code",
   "execution_count": 1,
   "metadata": {
    "cellId": "5d8eij28p2jf96db0kva39",
    "colab": {
     "base_uri": "https://localhost:8080/"
    },
    "execution": {
     "iopub.execute_input": "2023-11-12T13:05:23.273664782Z",
     "iopub.status.busy": "2023-11-12T13:05:54.427371Z",
     "iopub.status.idle": "2023-11-12T13:06:10.387557Z",
     "shell.execute_reply": "2023-11-12T13:06:10.386362Z",
     "shell.execute_reply.started": "2023-11-12T13:05:54.428320Z"
    },
    "id": "CUxDJEBB0M6K",
    "outputId": "f1d4a456-eb99-426e-cc13-aef47f833be4",
    "tags": []
   },
   "outputs": [
    {
     "name": "stdout",
     "output_type": "stream",
     "text": [
      "Defaulting to user installation because normal site-packages is not writeable\n",
      "Requirement already satisfied: sentencepiece in /home/kolya/.local/lib/python3.10/site-packages (0.1.97)\n",
      "Note: you may need to restart the kernel to use updated packages.\n",
      "Defaulting to user installation because normal site-packages is not writeable\n",
      "Requirement already satisfied: wandb in /home/kolya/.local/lib/python3.10/site-packages (0.13.10)\n",
      "Requirement already satisfied: docker-pycreds>=0.4.0 in /home/kolya/.local/lib/python3.10/site-packages (from wandb) (0.4.0)\n",
      "Requirement already satisfied: PyYAML in /usr/lib/python3/dist-packages (from wandb) (5.4.1)\n",
      "Requirement already satisfied: pathtools in /home/kolya/.local/lib/python3.10/site-packages (from wandb) (0.1.2)\n",
      "Requirement already satisfied: appdirs>=1.4.3 in /usr/lib/python3/dist-packages (from wandb) (1.4.4)\n",
      "Requirement already satisfied: setproctitle in /home/kolya/.local/lib/python3.10/site-packages (from wandb) (1.3.2)\n",
      "Requirement already satisfied: protobuf!=4.21.0,<5,>=3.19.0 in /home/kolya/.local/lib/python3.10/site-packages (from wandb) (4.22.0)\n",
      "Requirement already satisfied: psutil>=5.0.0 in /home/kolya/.local/lib/python3.10/site-packages (from wandb) (5.9.4)\n",
      "Requirement already satisfied: GitPython>=1.0.0 in /home/kolya/.local/lib/python3.10/site-packages (from wandb) (3.1.31)\n",
      "Requirement already satisfied: setuptools in /usr/lib/python3/dist-packages (from wandb) (59.6.0)\n",
      "Requirement already satisfied: requests<3,>=2.0.0 in /home/kolya/.local/lib/python3.10/site-packages (from wandb) (2.31.0)\n",
      "Requirement already satisfied: Click!=8.0.0,>=7.0 in /usr/lib/python3/dist-packages (from wandb) (8.0.3)\n",
      "Requirement already satisfied: sentry-sdk>=1.0.0 in /home/kolya/.local/lib/python3.10/site-packages (from wandb) (1.15.0)\n",
      "Requirement already satisfied: six>=1.4.0 in /usr/lib/python3/dist-packages (from docker-pycreds>=0.4.0->wandb) (1.16.0)\n",
      "Requirement already satisfied: gitdb<5,>=4.0.1 in /home/kolya/.local/lib/python3.10/site-packages (from GitPython>=1.0.0->wandb) (4.0.10)\n",
      "Requirement already satisfied: certifi>=2017.4.17 in /usr/lib/python3/dist-packages (from requests<3,>=2.0.0->wandb) (2020.6.20)\n",
      "Requirement already satisfied: charset-normalizer<4,>=2 in /home/kolya/.local/lib/python3.10/site-packages (from requests<3,>=2.0.0->wandb) (3.0.1)\n",
      "Requirement already satisfied: idna<4,>=2.5 in /usr/lib/python3/dist-packages (from requests<3,>=2.0.0->wandb) (3.3)\n",
      "Requirement already satisfied: urllib3<3,>=1.21.1 in /home/kolya/.local/lib/python3.10/site-packages (from requests<3,>=2.0.0->wandb) (1.26.14)\n",
      "Requirement already satisfied: smmap<6,>=3.0.1 in /home/kolya/.local/lib/python3.10/site-packages (from gitdb<5,>=4.0.1->GitPython>=1.0.0->wandb) (5.0.0)\n",
      "Note: you may need to restart the kernel to use updated packages.\n"
     ]
    }
   ],
   "source": [
    "#!g1.1\n",
    "%pip install sentencepiece\n",
    "%pip install wandb"
   ]
  },
  {
   "cell_type": "code",
   "execution_count": 2,
   "metadata": {},
   "outputs": [
    {
     "name": "stderr",
     "output_type": "stream",
     "text": [
      "100%|██████████| 50/50 [00:36<00:00,  1.37it/s]\n"
     ]
    },
    {
     "data": {
      "text/plain": [
       "4967871"
      ]
     },
     "execution_count": 2,
     "metadata": {},
     "output_type": "execute_result"
    }
   ],
   "source": [
    "#Dataset size computation\n",
    "import os\n",
    "import json\n",
    "from tqdm import tqdm\n",
    "overall_len = 0\n",
    "for js in tqdm(os.listdir('jsons')):\n",
    "    with open(\"jsons/{}\".format(js)) as f:\n",
    "        string = f.readline()\n",
    "        overall_len += len(json.loads(string))\n",
    "        f.close()\n",
    "overall_len"
   ]
  },
  {
   "cell_type": "code",
   "execution_count": 29,
   "metadata": {
    "cellId": "bd2dk3d6jujhfn98nc52yt",
    "execution": {
     "iopub.execute_input": "2023-11-12T13:06:18.814428035Z",
     "iopub.status.busy": "2023-11-12T13:06:19.853575Z",
     "iopub.status.idle": "2023-11-12T13:06:20.031456Z",
     "shell.execute_reply": "2023-11-12T13:06:20.030248Z",
     "shell.execute_reply.started": "2023-11-12T13:06:19.854460Z"
    },
    "tags": []
   },
   "outputs": [
    {
     "name": "stdout",
     "output_type": "stream",
     "text": [
      "Sun Nov 12 13:06:19 2023       \n",
      "+-----------------------------------------------------------------------------+\n",
      "| NVIDIA-SMI 525.125.06   Driver Version: 525.125.06   CUDA Version: 12.0     |\n",
      "|-------------------------------+----------------------+----------------------+\n",
      "| GPU  Name        Persistence-M| Bus-Id        Disp.A | Volatile Uncorr. ECC |\n",
      "| Fan  Temp  Perf  Pwr:Usage/Cap|         Memory-Usage | GPU-Util  Compute M. |\n",
      "|                               |                      |               MIG M. |\n",
      "|===============================+======================+======================|\n",
      "|   0  Tesla V100-PCIE...  On   | 00000000:8C:00.0 Off |                  Off |\n",
      "| N/A   28C    P0    24W / 250W |      4MiB / 32768MiB |      0%      Default |\n",
      "|                               |                      |                  N/A |\n",
      "+-------------------------------+----------------------+----------------------+\n",
      "                                                                               \n",
      "+-----------------------------------------------------------------------------+\n",
      "| Processes:                                                                  |\n",
      "|  GPU   GI   CI        PID   Type   Process name                  GPU Memory |\n",
      "|        ID   ID                                                   Usage      |\n",
      "|=============================================================================|\n",
      "|    0   N/A  N/A       887      G   /usr/lib/xorg/Xorg                  4MiB |\n",
      "+-----------------------------------------------------------------------------+\n"
     ]
    }
   ],
   "source": [
    "#!g1.1\n",
    "!nvidia-smi"
   ]
  },
  {
   "cell_type": "code",
   "execution_count": 2,
   "metadata": {
    "cellId": "dsaivjgujulfhvq59d0365",
    "execution": {
     "iopub.execute_input": "2023-11-12T13:06:23.672776712Z",
     "iopub.status.busy": "2023-11-12T13:06:24.747197Z",
     "iopub.status.idle": "2023-11-12T13:06:35.724556Z",
     "shell.execute_reply": "2023-11-12T13:06:35.723378Z",
     "shell.execute_reply.started": "2023-11-12T13:06:24.748192Z"
    },
    "id": "z_ZKvWnmzj0b"
   },
   "outputs": [],
   "source": [
    "#!g1.1\n",
    "import json\n",
    "from torch.utils.data import DataLoader\n",
    "import sentencepiece as spm\n",
    "from dataset import TinyStoriesDataset\n",
    "from train import *\n",
    "from model import *\n",
    "import torch\n",
    "import matplotlib.pyplot as plt"
   ]
  },
  {
   "cell_type": "code",
   "execution_count": 3,
   "metadata": {
    "cellId": "kb2xrja47ysah3syt0enoj",
    "execution": {
     "iopub.execute_input": "2023-11-12T13:06:27.984532234Z",
     "iopub.status.busy": "2023-11-12T13:06:36.658488Z",
     "iopub.status.idle": "2023-11-12T13:06:36.737455Z",
     "shell.execute_reply": "2023-11-12T13:06:36.736467Z",
     "shell.execute_reply.started": "2023-11-12T13:06:36.659457Z"
    },
    "id": "NE4WppAVzj0g"
   },
   "outputs": [],
   "source": [
    "#!g1.1\n",
    "%load_ext autoreload\n",
    "%autoreload 2"
   ]
  },
  {
   "cell_type": "code",
   "execution_count": 4,
   "metadata": {
    "cellId": "gw0rosjxo7ul0xzksx4wt",
    "colab": {
     "base_uri": "https://localhost:8080/"
    },
    "execution": {
     "iopub.execute_input": "2023-11-12T13:06:38.092510051Z",
     "iopub.status.busy": "2023-11-12T13:06:39.140615Z",
     "iopub.status.idle": "2023-11-12T13:06:49.082307Z",
     "shell.execute_reply": "2023-11-12T13:06:49.080895Z",
     "shell.execute_reply.started": "2023-11-12T13:06:39.141518Z"
    },
    "id": "o2pMBZtpzj0i",
    "outputId": "edaf5076-b041-4e45-ee4f-c03f4675866e"
   },
   "outputs": [
    {
     "data": {
      "text/plain": [
       "{'story': '\\n\\nLily and Ben are friends. They like to play in the park. One day, they see a big tree with a swing. Lily wants to try the swing. She runs to the tree and climbs on the swing.\\n\"Push me, Ben!\" she says. Ben pushes her gently. Lily feels happy. She swings higher and higher. She laughs and shouts.\\nBen watches Lily. He thinks she is cute. He wants to swing too. He waits for Lily to stop. But Lily does not stop. She swings faster and faster. She is having too much fun.\\n\"Can I swing too, Lily?\" Ben asks. Lily does not hear him. She is too busy swinging. Ben feels sad. He walks away.\\nLily swings so high that she loses her grip. She falls off the swing. She lands on the ground. She hurts her foot. She cries.\\n\"Ow, ow, ow!\" she says. She looks for Ben. She wants him to help her. But Ben is not there. He is gone.\\nLily feels sorry. She wishes she had shared the swing with Ben. She wishes he was there to hug her. She limps to the tree. She sees something hanging from a branch. It is Ben\\'s hat. He left it for her.\\nLily smiles. She thinks Ben is nice. She puts on his hat. She hopes he will come back. She wants to say sorry. She wants to be friends again.',\n",
       " 'instruction': {'prompt:': 'Write a short story (3-5 paragraphs) which only uses very simple words that a 3 year old child would understand. The story should use the verb \"hang\", the noun \"foot\" and the adjective \"cute\". The story has the following features: the story should contain at least one dialogue. Remember to only use simple words!\\n\\nPossible story:',\n",
       "  'words': ['hang', 'foot', 'cute'],\n",
       "  'features': ['Dialogue']},\n",
       " 'summary': 'Lily and Ben play in the park and Lily gets too caught up in swinging, causing Ben to leave. Lily falls off the swing and hurts herself, but Ben leaves his hat for her as a kind gesture.',\n",
       " 'source': 'GPT-4'}"
      ]
     },
     "execution_count": 4,
     "metadata": {},
     "output_type": "execute_result"
    }
   ],
   "source": [
    "#!g1.1\n",
    "with open(\"jsons/data00.json\") as f:\n",
    "    string = f.readline()\n",
    "d = json.loads(string)\n",
    "d[0]\n"
   ]
  },
  {
   "cell_type": "code",
   "execution_count": 5,
   "metadata": {
    "cellId": "o95oyz4zxwrw989dh8xp2",
    "collapsed": true,
    "execution": {
     "iopub.execute_input": "2023-11-12T13:07:24.378368548Z",
     "iopub.status.busy": "2023-11-12T13:07:25.376235Z",
     "iopub.status.idle": "2023-11-12T13:07:39.563754Z",
     "shell.execute_reply": "2023-11-12T13:07:39.562406Z",
     "shell.execute_reply.started": "2023-11-12T13:07:25.377199Z"
    },
    "id": "Zmwy41bWzj0m",
    "jupyter": {
     "outputs_hidden": true
    }
   },
   "outputs": [
    {
     "name": "stderr",
     "output_type": "stream",
     "text": [
      "sentencepiece_trainer.cc(77) LOG(INFO) Starts training with : \n",
      "trainer_spec {\n",
      "  input: small_dataset\n",
      "  input_format: \n",
      "  model_prefix: small_dataset\n",
      "  model_type: BPE\n",
      "  vocab_size: 1000\n",
      "  self_test_sample_size: 0\n",
      "  character_coverage: 0.9995\n",
      "  input_sentence_size: 0\n",
      "  shuffle_input_sentence: 1\n",
      "  seed_sentencepiece_size: 1000000\n",
      "  shrinking_factor: 0.75\n",
      "  max_sentence_length: 4192\n",
      "  num_threads: 16\n",
      "  num_sub_iterations: 2\n",
      "  max_sentencepiece_length: 16\n",
      "  split_by_unicode_script: 1\n",
      "  split_by_number: 1\n",
      "  split_by_whitespace: 1\n",
      "  split_digits: 0\n",
      "  treat_whitespace_as_suffix: 0\n",
      "  allow_whitespace_only_pieces: 0\n",
      "  required_chars: \n",
      "  byte_fallback: 0\n",
      "  vocabulary_output_piece_score: 1\n",
      "  train_extremely_large_corpus: 0\n",
      "  hard_vocab_limit: 1\n",
      "  use_all_vocab: 0\n",
      "  unk_id: 3\n",
      "  bos_id: 2\n",
      "  eos_id: 1\n",
      "  pad_id: 0\n",
      "  unk_piece: <unk>\n",
      "  bos_piece: <s>\n",
      "  eos_piece: </s>\n",
      "  pad_piece: <pad>\n",
      "  unk_surface:  ⁇ \n",
      "  enable_differential_privacy: 0\n",
      "  differential_privacy_noise_level: 0\n",
      "  differential_privacy_clipping_threshold: 0\n",
      "}\n",
      "normalizer_spec {\n",
      "  name: identity\n",
      "  add_dummy_prefix: 1\n",
      "  remove_extra_whitespaces: 1\n",
      "  escape_whitespaces: 1\n",
      "  normalization_rule_tsv: \n",
      "}\n",
      "denormalizer_spec {}\n",
      "trainer_interface.cc(350) LOG(INFO) SentenceIterator is not specified. Using MultiFileSentenceIterator.\n",
      "trainer_interface.cc(181) LOG(INFO) Loading corpus: small_dataset\n",
      "trainer_interface.cc(406) LOG(INFO) Loaded all 311 sentences\n",
      "trainer_interface.cc(422) LOG(INFO) Adding meta_piece: <pad>\n",
      "trainer_interface.cc(422) LOG(INFO) Adding meta_piece: </s>\n",
      "trainer_interface.cc(422) LOG(INFO) Adding meta_piece: <s>\n",
      "trainer_interface.cc(422) LOG(INFO) Adding meta_piece: <unk>\n",
      "trainer_interface.cc(427) LOG(INFO) Normalizing sentences...\n",
      "trainer_interface.cc(536) LOG(INFO) all chars count=76079\n",
      "trainer_interface.cc(547) LOG(INFO) Done: 99.9566% characters are covered.\n",
      "trainer_interface.cc(557) LOG(INFO) Alphabet size=51\n",
      "trainer_interface.cc(558) LOG(INFO) Final character coverage=0.999566\n",
      "trainer_interface.cc(590) LOG(INFO) Done! preprocessed 311 sentences.\n",
      "trainer_interface.cc(596) LOG(INFO) Tokenizing input sentences with whitespace: 311\n",
      "trainer_interface.cc(607) LOG(INFO) Done! 2420\n",
      "bpe_model_trainer.cc(167) LOG(INFO) Updating active symbols. max_freq=2226 min_freq=1\n",
      "bpe_model_trainer.cc(258) LOG(INFO) Added: freq=484 size=20 all=809 active=757 piece=▁l\n",
      "bpe_model_trainer.cc(258) LOG(INFO) Added: freq=286 size=40 all=1142 active=1090 piece=at\n",
      "bpe_model_trainer.cc(258) LOG(INFO) Added: freq=186 size=60 all=1456 active=1404 piece=▁She\n",
      "bpe_model_trainer.cc(258) LOG(INFO) Added: freq=138 size=80 all=1561 active=1509 piece=▁said\n",
      "bpe_model_trainer.cc(258) LOG(INFO) Added: freq=117 size=100 all=1696 active=1644 piece=se\n",
      "bpe_model_trainer.cc(167) LOG(INFO) Updating active symbols. max_freq=117 min_freq=3\n",
      "bpe_model_trainer.cc(258) LOG(INFO) Added: freq=98 size=120 all=1834 active=1124 piece=▁happ\n",
      "bpe_model_trainer.cc(258) LOG(INFO) Added: freq=81 size=140 all=1921 active=1211 piece=▁M\n",
      "bpe_model_trainer.cc(258) LOG(INFO) Added: freq=68 size=160 all=1993 active=1283 piece=▁too\n",
      "bpe_model_trainer.cc(258) LOG(INFO) Added: freq=55 size=180 all=2109 active=1399 piece=▁fun\n",
      "bpe_model_trainer.cc(258) LOG(INFO) Added: freq=48 size=200 all=2162 active=1452 piece=▁out\n",
      "bpe_model_trainer.cc(167) LOG(INFO) Updating active symbols. max_freq=47 min_freq=4\n",
      "bpe_model_trainer.cc(258) LOG(INFO) Added: freq=44 size=220 all=2197 active=1035 piece=▁back\n",
      "bpe_model_trainer.cc(258) LOG(INFO) Added: freq=37 size=240 all=2276 active=1114 piece=side\n",
      "bpe_model_trainer.cc(258) LOG(INFO) Added: freq=33 size=260 all=2350 active=1188 piece=▁would\n",
      "bpe_model_trainer.cc(258) LOG(INFO) Added: freq=29 size=280 all=2389 active=1227 piece=▁car\n",
      "bpe_model_trainer.cc(258) LOG(INFO) Added: freq=26 size=300 all=2460 active=1298 piece=ara\n",
      "bpe_model_trainer.cc(167) LOG(INFO) Updating active symbols. max_freq=26 min_freq=3\n",
      "bpe_model_trainer.cc(258) LOG(INFO) Added: freq=24 size=320 all=2515 active=1051 piece=▁dan\n",
      "bpe_model_trainer.cc(258) LOG(INFO) Added: freq=23 size=340 all=2552 active=1088 piece=▁from\n",
      "bpe_model_trainer.cc(258) LOG(INFO) Added: freq=21 size=360 all=2593 active=1129 piece=ild\n",
      "bpe_model_trainer.cc(258) LOG(INFO) Added: freq=20 size=380 all=2626 active=1162 piece=▁who\n",
      "bpe_model_trainer.cc(258) LOG(INFO) Added: freq=18 size=400 all=2663 active=1199 piece=nder\n",
      "bpe_model_trainer.cc(167) LOG(INFO) Updating active symbols. max_freq=18 min_freq=3\n",
      "bpe_model_trainer.cc(258) LOG(INFO) Added: freq=17 size=420 all=2697 active=1030 piece=fter\n",
      "bpe_model_trainer.cc(258) LOG(INFO) Added: freq=16 size=440 all=2720 active=1053 piece=▁loud\n",
      "bpe_model_trainer.cc(258) LOG(INFO) Added: freq=15 size=460 all=2763 active=1096 piece=▁then\n",
      "bpe_model_trainer.cc(258) LOG(INFO) Added: freq=14 size=480 all=2793 active=1126 piece=▁sur\n",
      "bpe_model_trainer.cc(258) LOG(INFO) Added: freq=13 size=500 all=2812 active=1145 piece=ving\n",
      "bpe_model_trainer.cc(167) LOG(INFO) Updating active symbols. max_freq=13 min_freq=3\n",
      "bpe_model_trainer.cc(258) LOG(INFO) Added: freq=13 size=520 all=2811 active=996 piece=▁walked\n",
      "bpe_model_trainer.cc(258) LOG(INFO) Added: freq=12 size=540 all=2860 active=1045 piece=▁bed\n",
      "bpe_model_trainer.cc(258) LOG(INFO) Added: freq=11 size=560 all=2856 active=1041 piece=ep\n",
      "bpe_model_trainer.cc(258) LOG(INFO) Added: freq=11 size=580 all=2891 active=1076 piece=▁down\n",
      "bpe_model_trainer.cc(258) LOG(INFO) Added: freq=10 size=600 all=2897 active=1082 piece=ump\n",
      "bpe_model_trainer.cc(167) LOG(INFO) Updating active symbols. max_freq=10 min_freq=2\n",
      "bpe_model_trainer.cc(258) LOG(INFO) Added: freq=10 size=620 all=2918 active=1015 piece=▁dance\n",
      "bpe_model_trainer.cc(258) LOG(INFO) Added: freq=9 size=640 all=2928 active=1025 piece=gry\n",
      "bpe_model_trainer.cc(258) LOG(INFO) Added: freq=9 size=660 all=2956 active=1053 piece=▁met\n",
      "bpe_model_trainer.cc(258) LOG(INFO) Added: freq=9 size=680 all=2957 active=1054 piece=▁herbs\n",
      "bpe_model_trainer.cc(258) LOG(INFO) Added: freq=8 size=700 all=2955 active=1052 piece=ble\n",
      "bpe_model_trainer.cc(167) LOG(INFO) Updating active symbols. max_freq=8 min_freq=2\n",
      "bpe_model_trainer.cc(258) LOG(INFO) Added: freq=8 size=720 all=2988 active=1030 piece=rmch\n",
      "bpe_model_trainer.cc(258) LOG(INFO) Added: freq=8 size=740 all=2992 active=1034 piece=▁high\n",
      "bpe_model_trainer.cc(258) LOG(INFO) Added: freq=8 size=760 all=2981 active=1023 piece=▁hugged\n",
      "bpe_model_trainer.cc(258) LOG(INFO) Added: freq=7 size=780 all=2981 active=1023 piece=lew\n",
      "bpe_model_trainer.cc(258) LOG(INFO) Added: freq=7 size=800 all=2994 active=1036 piece=thing\n",
      "bpe_model_trainer.cc(167) LOG(INFO) Updating active symbols. max_freq=7 min_freq=2\n",
      "bpe_model_trainer.cc(258) LOG(INFO) Added: freq=7 size=820 all=2982 active=987 piece=▁yummy\n",
      "bpe_model_trainer.cc(258) LOG(INFO) Added: freq=6 size=840 all=2969 active=974 piece=ey\n",
      "bpe_model_trainer.cc(258) LOG(INFO) Added: freq=6 size=860 all=3000 active=1005 piece=▁ad\n",
      "bpe_model_trainer.cc(258) LOG(INFO) Added: freq=6 size=880 all=3014 active=1019 piece=▁dif\n",
      "bpe_model_trainer.cc(258) LOG(INFO) Added: freq=6 size=900 all=3008 active=1013 piece=▁gone\n",
      "bpe_model_trainer.cc(167) LOG(INFO) Updating active symbols. max_freq=6 min_freq=1\n",
      "bpe_model_trainer.cc(258) LOG(INFO) Added: freq=6 size=920 all=2996 active=989 piece=member\n",
      "bpe_model_trainer.cc(258) LOG(INFO) Added: freq=6 size=940 all=2981 active=974 piece=▁making\n",
      "trainer_interface.cc(685) LOG(INFO) Saving model: small_dataset.model\n",
      "trainer_interface.cc(697) LOG(INFO) Saving vocabs: small_dataset.vocab\n"
     ]
    }
   ],
   "source": [
    "#!g1.1\n",
    "dataset_size = 100\n",
    "with open(\"jsons/data00.json\", \"r\") as g:\n",
    "    js = json.loads(g.readline())\n",
    "    with open(\"small_dataset\", 'w+') as f:\n",
    "        for i in range(dataset_size):\n",
    "            f.write(js[i][\"story\"])\n",
    "\n",
    "spm.SentencePieceTrainer.train(\n",
    "    input=\"small_dataset\",\n",
    "    model_prefix='small_dataset',\n",
    "    model_type='bpe',\n",
    "    vocab_size=1000,\n",
    "    normalization_rule_name='identity',\n",
    "    pad_id=0, eos_id=1, bos_id=2, unk_id=3\n",
    ")\n",
    "tokenizer = spm.SentencePieceProcessor(model_file=\"small_dataset.model\")\n"
   ]
  },
  {
   "cell_type": "code",
   "execution_count": 31,
   "metadata": {
    "cellId": "xwuba7b1k9k8ukaabhan14",
    "execution": {
     "iopub.execute_input": "2023-11-12T13:08:01.324218204Z",
     "iopub.status.busy": "2023-11-12T13:08:02.404492Z",
     "iopub.status.idle": "2023-11-12T13:10:27.780446Z",
     "shell.execute_reply": "2023-11-12T13:10:27.778588Z",
     "shell.execute_reply.started": "2023-11-12T13:08:02.405390Z"
    }
   },
   "outputs": [
    {
     "name": "stdout",
     "output_type": "stream",
     "text": [
      "[[  2 949   3 ...  13 189  49]\n",
      " [  2 804 153 ...   0   0   0]\n",
      " [  2 804 153 ...   0   0   0]\n",
      " ...\n",
      " [  2 804 153 ... 333 920 631]\n",
      " [  2 804 153 ...   0   0   0]\n",
      " [  2 804 153 ...   0   0   0]]\n"
     ]
    }
   ],
   "source": [
    "#!g1.1\n",
    "small_dataset = TinyStoriesDataset([\"jsons/data00.json\"], tokenizer, dataset_size=dataset_size, load_from_memory=True, filename='small_dataset_tokenized.npy')\n"
   ]
  },
  {
   "cell_type": "code",
   "execution_count": 32,
   "metadata": {
    "cellId": "ue2t3gf8258rmepy2of5n",
    "execution": {
     "iopub.execute_input": "2023-11-12T13:11:12.389228927Z",
     "iopub.status.busy": "2023-11-12T13:11:13.613312Z",
     "iopub.status.idle": "2023-11-12T13:11:13.846916Z",
     "shell.execute_reply": "2023-11-12T13:11:13.845805Z",
     "shell.execute_reply.started": "2023-11-12T13:11:13.614724Z"
    }
   },
   "outputs": [
    {
     "data": {
      "text/plain": [
       "array([[  2, 949,   3, ...,  13, 189,  49],\n",
       "       [  2, 804, 153, ...,   0,   0,   0],\n",
       "       [  2, 804, 153, ...,   0,   0,   0],\n",
       "       ...,\n",
       "       [  2, 804, 153, ..., 333, 920, 631],\n",
       "       [  2, 804, 153, ...,   0,   0,   0],\n",
       "       [  2, 804, 153, ...,   0,   0,   0]])"
      ]
     },
     "execution_count": 32,
     "metadata": {},
     "output_type": "execute_result"
    }
   ],
   "source": [
    "#!g1.1\n",
    "small_dataset.corpus"
   ]
  },
  {
   "cell_type": "code",
   "execution_count": null,
   "metadata": {
    "cellId": "043ijulawy7jof4e5i53n1i",
    "colab": {
     "base_uri": "https://localhost:8080/"
    },
    "id": "ibChoYRuzj0o",
    "outputId": "792b7879-527e-4492-9138-a7b0c74bef05"
   },
   "outputs": [],
   "source": [
    "#!g1.1\n",
    "import torch\n",
    "import numpy as np\n",
    "from tqdm import tqdm\n",
    "# l = [\"Lily and Ben are friends.\", \"They like to play in the park\"]\n",
    "# seqs = [torch.tensor(tokenizer.encode(x, add_eos=True, add_bos=True), dtype=torch.int) for x in l]\n",
    "# seqs\n",
    "ls = []\n",
    "s = []\n",
    "for i in tqdm(range(len(small_dataset))):\n",
    "    ls.append(len(tokenizer.encode(small_dataset[i], add_eos=True, add_bos=True)))\n",
    "    s.append(len(small_dataset[i]))"
   ]
  },
  {
   "cell_type": "code",
   "execution_count": 37,
   "metadata": {
    "cellId": "4n9v13orpx76t7xrxrs4a4",
    "execution": {
     "iopub.execute_input": "2023-11-12T13:11:27.127806646Z",
     "iopub.status.busy": "2023-11-12T13:11:28.107987Z",
     "iopub.status.idle": "2023-11-12T13:11:28.157565Z",
     "shell.execute_reply": "2023-11-12T13:11:28.156459Z",
     "shell.execute_reply.started": "2023-11-12T13:11:28.108658Z"
    },
    "id": "f4F_ie4-3OG6"
   },
   "outputs": [],
   "source": [
    "#!g1.1\n",
    "device = torch.device(\"cuda:0\")"
   ]
  },
  {
   "cell_type": "code",
   "execution_count": 33,
   "metadata": {
    "cellId": "5tjk50hd638rfki9k065d",
    "execution": {
     "iopub.execute_input": "2023-11-12T13:11:50.136117204Z",
     "iopub.status.busy": "2023-11-12T13:11:51.235958Z",
     "iopub.status.idle": "2023-11-12T13:11:52.381589Z",
     "shell.execute_reply": "2023-11-12T13:11:52.380397Z",
     "shell.execute_reply.started": "2023-11-12T13:11:51.236847Z"
    },
    "id": "LyN6vxbYzj0q"
   },
   "outputs": [],
   "source": [
    "#!g1.1\n",
    "decoder = BoutiqueLM(\n",
    "    vocab_stories_size=1000,\n",
    "    num_layers=1,\n",
    "    num_heads=8,\n",
    "    hidden_dim=128,\n",
    "    activation=nn.GELU,\n",
    "    max_len=10000\n",
    ")#.to(device)"
   ]
  },
  {
   "cell_type": "code",
   "execution_count": 34,
   "metadata": {
    "cellId": "s98935mq1keuk2whw46b",
    "colab": {
     "base_uri": "https://localhost:8080/"
    },
    "execution": {
     "iopub.execute_input": "2023-11-12T13:12:01.406010763Z",
     "iopub.status.busy": "2023-11-12T13:12:02.533454Z",
     "iopub.status.idle": "2023-11-12T13:12:02.593374Z",
     "shell.execute_reply": "2023-11-12T13:12:02.592110Z",
     "shell.execute_reply.started": "2023-11-12T13:12:02.534563Z"
    },
    "id": "cPa3A1aezj0q",
    "outputId": "be889fe1-9911-43e5-b177-27c78e654ced"
   },
   "outputs": [
    {
     "data": {
      "text/plain": [
       "453760"
      ]
     },
     "execution_count": 34,
     "metadata": {},
     "output_type": "execute_result"
    }
   ],
   "source": [
    "#!g1.1\n",
    "sum(p.numel() for p in decoder.parameters())"
   ]
  },
  {
   "cell_type": "code",
   "execution_count": 35,
   "metadata": {
    "cellId": "wxjt0eica9gi1fbffirtp",
    "execution": {
     "iopub.execute_input": "2023-11-12T13:12:37.431605200Z",
     "iopub.status.busy": "2023-11-12T13:12:38.450824Z",
     "iopub.status.idle": "2023-11-12T13:12:38.646703Z",
     "shell.execute_reply": "2023-11-12T13:12:38.645579Z",
     "shell.execute_reply.started": "2023-11-12T13:12:38.451754Z"
    },
    "id": "TBrxzIvdzj0r"
   },
   "outputs": [],
   "source": [
    "#!g1.1\n",
    "num_workers = 2\n",
    "lr = 1.25e-3\n",
    "optimizer = torch.optim.AdamW(decoder.parameters(), lr=lr)\n",
    "scheduler = torch.optim.lr_scheduler.OneCycleLR(optimizer=optimizer, max_lr=lr, total_steps=150, pct_start=0.3, final_div_factor=10,)\n",
    "train_loader = DataLoader(\n",
    "    small_dataset,\n",
    "    batch_size=100,\n",
    "    shuffle=True,\n",
    "    drop_last=True,\n",
    "    num_workers=num_workers,\n",
    "    pin_memory=True\n",
    ")\n",
    "\n",
    "val_loader = DataLoader(\n",
    "    small_dataset,\n",
    "    batch_size=100,\n",
    "    shuffle=False,\n",
    "    num_workers=num_workers\n",
    ")"
   ]
  },
  {
   "cell_type": "code",
   "execution_count": 42,
   "metadata": {
    "cellId": "4winj4evno4oz8zyqwgib",
    "execution": {
     "iopub.execute_input": "2023-11-12T13:13:09.425540418Z",
     "iopub.status.busy": "2023-11-12T13:13:10.466272Z",
     "iopub.status.idle": "2023-11-12T13:13:11.039882Z",
     "shell.execute_reply": "2023-11-12T13:13:11.038690Z",
     "shell.execute_reply.started": "2023-11-12T13:13:10.467344Z"
    }
   },
   "outputs": [
    {
     "name": "stderr",
     "output_type": "stream",
     "text": [
      "\u001b[34m\u001b[1mwandb\u001b[0m: \u001b[33mWARNING\u001b[0m If you're specifying your api key in code, ensure this code is not shared publicly.\n",
      "\u001b[34m\u001b[1mwandb\u001b[0m: \u001b[33mWARNING\u001b[0m Consider setting the WANDB_API_KEY environment variable, or running `wandb login` from the command line.\n",
      "\u001b[34m\u001b[1mwandb\u001b[0m: Appending key for api.wandb.ai to your netrc file: /home/jupyter/.netrc\n"
     ]
    },
    {
     "data": {
      "text/plain": [
       "True"
      ]
     },
     "execution_count": 42,
     "metadata": {},
     "output_type": "execute_result"
    }
   ],
   "source": [
    "#!g1.1\n",
    "wandb.login(key=\"9f8480fbfcfd1d06b91b59aa5d23ed5482fdee2e\", relogin=True)"
   ]
  },
  {
   "cell_type": "code",
   "execution_count": 44,
   "metadata": {
    "cellId": "z6qozj8zglbrh1rt89qs7",
    "execution": {
     "iopub.execute_input": "2023-11-12T13:17:18.864655598Z",
     "iopub.status.busy": "2023-11-12T13:17:19.881692Z",
     "iopub.status.idle": "2023-11-12T13:17:21.256391Z",
     "shell.execute_reply": "2023-11-12T13:17:21.255009Z",
     "shell.execute_reply.started": "2023-11-12T13:17:19.882493Z"
    }
   },
   "outputs": [
    {
     "name": "stderr",
     "output_type": "stream",
     "text": [
      "\u001b[34m\u001b[1mwandb\u001b[0m: Currently logged in as: \u001b[33mkilka74\u001b[0m. Use \u001b[1m`wandb login --relogin`\u001b[0m to force relogin\n",
      "\u001b[34m\u001b[1mwandb\u001b[0m: Tracking run with wandb version 0.16.0\n",
      "\u001b[34m\u001b[1mwandb\u001b[0m: Run data is saved locally in \u001b[35m\u001b[1m/home/jupyter/work/resources/wandb/run-20231112_131720-k308ka9a\u001b[0m\n",
      "\u001b[34m\u001b[1mwandb\u001b[0m: Run \u001b[1m`wandb offline`\u001b[0m to turn off syncing.\n",
      "\u001b[34m\u001b[1mwandb\u001b[0m: Syncing run \u001b[33moverfit small data, decoder-only\u001b[0m\n",
      "\u001b[34m\u001b[1mwandb\u001b[0m: ⭐️ View project at \u001b[34m\u001b[4mhttps://wandb.ai/kilka74/DL%20bhw-1\u001b[0m\n",
      "\u001b[34m\u001b[1mwandb\u001b[0m: 🚀 View run at \u001b[34m\u001b[4mhttps://wandb.ai/kilka74/DL%20bhw-1/runs/k308ka9a\u001b[0m\n"
     ]
    },
    {
     "data": {
      "text/html": [
       "<button onClick=\"this.nextSibling.style.display='block';this.style.display='none';\">Display W&B run</button><iframe src='https://wandb.ai/kilka74/DL%20bhw-1/runs/k308ka9a?jupyter=true' style='border:none;width:100%;height:420px;display:none;'></iframe>"
      ],
      "text/plain": [
       "<wandb.sdk.wandb_run.Run at 0x7f3de385b310>"
      ]
     },
     "execution_count": 44,
     "metadata": {},
     "output_type": "execute_result"
    }
   ],
   "source": [
    "#!g1.1\n",
    "wandb.init(project=\"DL bhw-1\",\n",
    "          entity=\"kilka74\",\n",
    "          name=\"overfit small data, decoder-only\",\n",
    "          config={\n",
    "              \"batch_size\":512,\n",
    "              \"seq_len\":256,\n",
    "              \"embed_dim\":512,\n",
    "              \"num_heads\":8,\n",
    "              \"num_layers\":1,\n",
    "              \"tokenizetion\":\"BPE\",\n",
    "              \"vocab_size\":10000,\n",
    "              \"lr\": 5e-4\n",
    "          })"
   ]
  },
  {
   "cell_type": "code",
   "execution_count": 36,
   "metadata": {
    "cellId": "hhxfynecioydp4dj6f4u",
    "colab": {
     "base_uri": "https://localhost:8080/",
     "height": 599
    },
    "execution": {
     "iopub.execute_input": "2023-11-12T13:18:22.087825848Z",
     "iopub.status.busy": "2023-11-12T13:18:23.122502Z",
     "iopub.status.idle": "2023-11-12T13:38:04.342525Z",
     "shell.execute_reply": "2023-11-12T13:38:04.341324Z",
     "shell.execute_reply.started": "2023-11-12T13:18:23.123649Z"
    },
    "id": "kyOi1IsFzj0r",
    "outputId": "a0cebb6c-b361-43de-8572-7ab013d4e7d6"
   },
   "outputs": [
    {
     "data": {
      "image/png": "[encoded data removed]",
      "text/plain": [
       "<Figure size 1800x600 with 2 Axes>"
      ]
     },
     "metadata": {},
     "output_type": "display_data"
    }
   ],
   "source": [
    "#!g1.1\n",
    "train(\n",
    "    model=decoder,\n",
    "    num_epochs=150,\n",
    "    optimizer=optimizer,\n",
    "    scheduler=scheduler,\n",
    "    train_loader=train_loader,\n",
    "    val_loader=val_loader,\n",
    "    # wandb_log=True,\n",
    "    # device=torch.device(\"cuda:0\")\n",
    ")"
   ]
  },
  {
   "cell_type": "code",
   "execution_count": 47,
   "metadata": {
    "cellId": "qf1owyffl3o0tnkxxlcxtzo",
    "execution": {
     "iopub.execute_input": "2023-11-12T13:38:25.596236327Z",
     "iopub.status.busy": "2023-11-12T13:38:26.714323Z",
     "iopub.status.idle": "2023-11-12T13:38:31.611376Z",
     "shell.execute_reply": "2023-11-12T13:38:31.610217Z",
     "shell.execute_reply.started": "2023-11-12T13:38:26.715197Z"
    }
   },
   "outputs": [
    {
     "name": "stderr",
     "output_type": "stream",
     "text": [
      "\u001b[34m\u001b[1mwandb\u001b[0m:                                                                                \n",
      "\u001b[34m\u001b[1mwandb\u001b[0m: \n",
      "\u001b[34m\u001b[1mwandb\u001b[0m: Run history:\n",
      "\u001b[34m\u001b[1mwandb\u001b[0m:         lr ▁▁▁▁▁\n",
      "\u001b[34m\u001b[1mwandb\u001b[0m: train_loss █▅▄▂▁\n",
      "\u001b[34m\u001b[1mwandb\u001b[0m:   val_loss █▇▄▂▁\n",
      "\u001b[34m\u001b[1mwandb\u001b[0m: \n",
      "\u001b[34m\u001b[1mwandb\u001b[0m: Run summary:\n",
      "\u001b[34m\u001b[1mwandb\u001b[0m:         lr 0.0005\n",
      "\u001b[34m\u001b[1mwandb\u001b[0m: train_loss 3.12163\n",
      "\u001b[34m\u001b[1mwandb\u001b[0m:   val_loss 3.03119\n",
      "\u001b[34m\u001b[1mwandb\u001b[0m: \n",
      "\u001b[34m\u001b[1mwandb\u001b[0m: 🚀 View run \u001b[33moverfit small data, decoder-only\u001b[0m at: \u001b[34m\u001b[4mhttps://wandb.ai/kilka74/DL%20bhw-1/runs/k308ka9a\u001b[0m\n",
      "\u001b[34m\u001b[1mwandb\u001b[0m: Synced 5 W&B file(s), 0 media file(s), 0 artifact file(s) and 0 other file(s)\n",
      "\u001b[34m\u001b[1mwandb\u001b[0m: Find logs at: \u001b[35m\u001b[1m./wandb/run-20231112_131720-k308ka9a/logs\u001b[0m\n"
     ]
    }
   ],
   "source": [
    "#!g1.1\n",
    "wandb.finish()"
   ]
  },
  {
   "cell_type": "code",
   "execution_count": 12,
   "metadata": {
    "cellId": "28ds5prws1keg8s2vc76ns",
    "execution": {
     "iopub.execute_input": "2023-11-12T13:48:19.637655448Z",
     "iopub.status.busy": "2023-11-12T13:48:20.671625Z",
     "iopub.status.idle": "2023-11-12T13:48:20.720146Z",
     "shell.execute_reply": "2023-11-12T13:48:20.718963Z",
     "shell.execute_reply.started": "2023-11-12T13:48:20.672744Z"
    }
   },
   "outputs": [],
   "source": [
    "#!g1.1\n",
    "def _save_checkpoint(model, optimizer, epoch, save_best=False, only_best=False):\n",
    "        \"\"\"\n",
    "        Saving checkpoints\n",
    "\n",
    "        :param epoch: current epoch number\n",
    "        :param save_best: if True, rename the saved checkpoint to 'model_best.pth'\n",
    "        \"\"\"\n",
    "        arch = type(model).__name__\n",
    "        state = {\n",
    "            \"arch\": arch,\n",
    "            \"epoch\": epoch,\n",
    "            \"state_dict\": model.state_dict(),\n",
    "            \"optimizer\": optimizer.state_dict(),\n",
    "        }\n",
    "        filename = str(\"checkpoint-epoch{}.pth\".format(epoch))\n",
    "        if not (only_best and save_best):\n",
    "            torch.save(state, filename)\n",
    "#             logger.info(\"Saving checkpoint: {} ...\".format(filename))\n",
    "        if save_best:\n",
    "            best_path = str(\"model_best.pth\")\n",
    "            torch.save(state, best_path)\n",
    "#             logger.info(\"Saving current best: model_best.pth ...\")"
   ]
  },
  {
   "cell_type": "code",
   "execution_count": 13,
   "metadata": {
    "cellId": "skbynwbq9mnxezg11srn",
    "execution": {
     "iopub.execute_input": "2023-11-12T13:48:22.680988679Z",
     "iopub.status.busy": "2023-11-12T13:48:23.663140Z",
     "iopub.status.idle": "2023-11-12T13:48:24.375647Z",
     "shell.execute_reply": "2023-11-12T13:48:24.374484Z",
     "shell.execute_reply.started": "2023-11-12T13:48:23.664181Z"
    }
   },
   "outputs": [],
   "source": [
    "#!g1.1\n",
    "_save_checkpoint(decoder, optimizer, 150)"
   ]
  },
  {
   "cell_type": "code",
   "execution_count": 14,
   "metadata": {},
   "outputs": [],
   "source": [
    "#!g1.1\n",
    "tokenizer = spm.SentencePieceProcessor(model_file=\"small_dataset.model\")\n",
    "d = torch.load('checkpoint-epoch150.pth', map_location=torch.device('cpu'))"
   ]
  },
  {
   "cell_type": "code",
   "execution_count": 15,
   "metadata": {},
   "outputs": [
    {
     "data": {
      "text/plain": [
       "OrderedDict([('embeds.weight',\n",
       "              tensor([[ 1.2188,  0.2656,  0.4336,  ..., -1.0312, -0.7617, -0.3398],\n",
       "                      [-0.6172, -1.5469,  0.8867,  ..., -1.3750,  0.2227, -0.8320],\n",
       "                      [-0.5078,  1.3047,  1.4688,  ..., -0.3262, -0.1406,  1.0547],\n",
       "                      ...,\n",
       "                      [ 0.2236,  0.5000,  2.5938,  ...,  0.0532,  0.5312,  1.1953],\n",
       "                      [-1.3750,  2.2344,  1.0391,  ...,  1.0469,  1.6484, -0.5430],\n",
       "                      [-0.4277, -0.5469,  0.6836,  ...,  0.0869, -0.8477,  0.0469]],\n",
       "                     dtype=torch.bfloat16)),\n",
       "             ('positional_encoding.sin',\n",
       "              tensor([[[ 0.0000e+00,  0.0000e+00,  0.0000e+00,  ...,  0.0000e+00,\n",
       "                         0.0000e+00,  0.0000e+00],\n",
       "                       [ 8.3984e-01,  7.6172e-01,  6.7969e-01,  ...,  1.5831e-04,\n",
       "                         1.4019e-04,  1.1587e-04],\n",
       "                       [ 9.1016e-01,  9.8828e-01,  9.9609e-01,  ...,  3.1662e-04,\n",
       "                         2.8038e-04,  2.3174e-04],\n",
       "                       ...,\n",
       "                       [ 1.8555e-02,  5.8203e-01, -1.0000e+00,  ...,  1.0000e+00,\n",
       "                         9.8438e-01,  9.1406e-01],\n",
       "                       [ 1.8555e-02,  5.8203e-01, -1.0000e+00,  ...,  1.0000e+00,\n",
       "                         9.8438e-01,  9.1406e-01],\n",
       "                       [ 1.8555e-02,  5.8203e-01, -1.0000e+00,  ...,  1.0000e+00,\n",
       "                         9.8438e-01,  9.1406e-01]]], dtype=torch.bfloat16)),\n",
       "             ('positional_encoding.cos',\n",
       "              tensor([[[ 1.0000,  1.0000,  1.0000,  ...,  1.0000,  1.0000,  1.0000],\n",
       "                       [ 0.5391,  0.6484,  0.7305,  ...,  1.0000,  1.0000,  1.0000],\n",
       "                       [-0.4160, -0.1631,  0.0708,  ...,  1.0000,  1.0000,  1.0000],\n",
       "                       ...,\n",
       "                       [ 1.0000,  0.8125,  0.0139,  ..., -0.0073,  0.1719,  0.4023],\n",
       "                       [ 1.0000,  0.8125,  0.0139,  ..., -0.0073,  0.1719,  0.4023],\n",
       "                       [ 1.0000,  0.8125,  0.0139,  ..., -0.0073,  0.1719,  0.4023]]],\n",
       "                     dtype=torch.bfloat16)),\n",
       "             ('decoders.0.masked_multihead.in_proj_weight',\n",
       "              tensor([[-0.0311, -0.0894,  0.0135,  ..., -0.0625, -0.0018, -0.0549],\n",
       "                      [ 0.1055, -0.0527,  0.0012,  ..., -0.0302, -0.0211,  0.0132],\n",
       "                      [ 0.0850, -0.0898, -0.0859,  ..., -0.0530, -0.0014,  0.0289],\n",
       "                      ...,\n",
       "                      [ 0.0452,  0.0713,  0.0260,  ...,  0.0801,  0.0349,  0.0654],\n",
       "                      [-0.0140,  0.0977, -0.0239,  ..., -0.0537,  0.0486, -0.0732],\n",
       "                      [-0.0454, -0.0649,  0.0171,  ...,  0.0845, -0.0479, -0.0417]],\n",
       "                     dtype=torch.bfloat16)),\n",
       "             ('decoders.0.masked_multihead.in_proj_bias',\n",
       "              tensor([ 3.7109e-02, -2.7466e-02, -5.2490e-03,  1.4526e-02,  1.8799e-02,\n",
       "                       7.2632e-03, -1.0071e-02, -2.6703e-03,  1.2451e-02,  2.1851e-02,\n",
       "                      -3.1982e-02, -6.5613e-03, -7.3242e-02,  3.7193e-04, -5.7983e-03,\n",
       "                      -1.4465e-02,  2.9297e-02, -5.5237e-03, -3.7994e-03, -8.4839e-03,\n",
       "                      -1.8921e-02,  4.3335e-03, -2.0020e-02,  1.3306e-02, -3.7109e-02,\n",
       "                      -8.7280e-03,  2.4261e-03, -1.2329e-02, -2.5024e-02,  9.2163e-03,\n",
       "                      -3.4668e-02, -3.4912e-02,  3.8330e-02, -9.8877e-03, -2.6550e-03,\n",
       "                      -6.6895e-02, -2.2949e-02, -1.3855e-02,  4.2419e-03, -3.2196e-03,\n",
       "                      -2.1484e-02,  1.8188e-02, -6.9336e-02, -2.3438e-02,  2.0630e-02,\n",
       "                       3.6774e-03, -2.3560e-02, -2.3560e-02, -5.9204e-03,  4.8523e-03,\n",
       "                       1.4832e-02,  1.7395e-03,  3.3447e-02,  1.7090e-02, -4.6997e-03,\n",
       "                      -4.0436e-04,  2.8809e-02, -6.9580e-03,  2.6703e-03, -7.7515e-03,\n",
       "                       8.6670e-03, -1.7944e-02,  2.2339e-02, -1.3550e-02, -6.2561e-03,\n",
       "                      -7.6599e-03, -5.2490e-03,  1.0254e-02,  1.3794e-02, -9.7656e-03,\n",
       "                       8.4686e-04, -3.2959e-02,  7.1411e-03,  5.5313e-04, -6.1340e-03,\n",
       "                       2.3651e-03, -1.1444e-03,  6.1951e-03, -2.0294e-03, -1.0559e-02,\n",
       "                      -2.4536e-02, -1.7578e-02,  3.5400e-02,  9.0942e-03, -8.1787e-03,\n",
       "                      -1.6235e-02, -2.4658e-02, -2.1667e-03, -2.1240e-02, -1.1047e-02,\n",
       "                      -3.0640e-02, -5.9082e-02, -9.0942e-03,  1.6846e-02,  1.0620e-02,\n",
       "                       9.8267e-03,  5.4688e-02, -1.4099e-02,  1.0132e-02,  3.7598e-02,\n",
       "                      -3.4790e-03,  3.0518e-02,  3.2043e-04, -4.7913e-03, -4.3106e-04,\n",
       "                       5.0354e-03,  5.1270e-03, -1.0254e-02, -3.6377e-02,  8.7402e-02,\n",
       "                      -2.3804e-02, -4.0527e-02, -1.8555e-02, -4.9744e-03,  6.8054e-03,\n",
       "                      -9.2163e-03,  2.0630e-02,  5.6458e-03, -3.8086e-02, -1.1169e-02,\n",
       "                      -7.8125e-03, -4.6082e-03, -1.4038e-02,  1.4648e-02, -7.0496e-03,\n",
       "                       5.1270e-03,  7.5073e-03, -9.8877e-03, -2.8992e-03,  6.7139e-03,\n",
       "                      -6.5231e-04,  1.0010e-02, -1.0147e-03,  7.2937e-03, -8.3542e-04,\n",
       "                       4.9133e-03, -5.0964e-03,  1.6403e-03, -2.6398e-03,  4.2343e-04,\n",
       "                      -8.9111e-03, -1.1414e-02, -2.4109e-03,  2.3651e-03, -1.1353e-02,\n",
       "                      -6.0730e-03, -4.7607e-03,  1.2207e-02,  3.2654e-03, -4.8218e-03,\n",
       "                      -1.2085e-02,  5.8899e-03,  3.5858e-03,  2.1118e-02,  8.3008e-03,\n",
       "                      -7.1106e-03,  1.1597e-02,  1.1414e-02, -1.2684e-04,  5.3406e-03,\n",
       "                      -9.7656e-03,  8.3008e-03, -5.6152e-03, -2.0905e-03, -2.0752e-03,\n",
       "                       4.0588e-03,  1.0910e-03,  2.9144e-03,  7.8125e-03, -1.0986e-02,\n",
       "                       2.1667e-03, -1.5259e-02, -8.1787e-03,  1.7212e-02,  5.6152e-03,\n",
       "                      -5.6458e-03,  6.8054e-03, -1.6251e-03, -1.0559e-02,  4.9591e-04,\n",
       "                      -1.5869e-02, -6.4850e-05, -7.4463e-03, -6.1951e-03,  1.5945e-03,\n",
       "                       3.2997e-04, -6.3782e-03,  1.9150e-03, -3.4943e-03,  1.5869e-03,\n",
       "                      -1.1658e-02,  1.1047e-02,  2.8534e-03,  5.3711e-03,  5.8899e-03,\n",
       "                      -3.1471e-04, -1.3123e-03, -1.6251e-03,  1.4221e-02, -1.3062e-02,\n",
       "                      -8.9111e-03,  2.5635e-03, -4.8218e-03,  1.9226e-03,  3.0518e-03,\n",
       "                       5.2490e-03,  6.2866e-03,  6.9580e-03,  9.8877e-03, -1.2024e-02,\n",
       "                       7.1335e-04, -4.4556e-03, -7.7438e-04, -6.1035e-03,  3.2959e-03,\n",
       "                      -3.7384e-03,  1.0193e-02,  1.0986e-02, -1.9379e-03, -3.5858e-03,\n",
       "                       1.0986e-02,  3.2043e-03, -1.1108e-02,  3.4485e-03,  3.7537e-03,\n",
       "                      -6.4697e-03, -6.1340e-03,  1.4038e-02,  1.3504e-03,  2.0386e-02,\n",
       "                       2.7771e-03, -3.4943e-03, -1.3916e-02, -5.0049e-03,  7.8125e-03,\n",
       "                       7.6904e-03,  4.1809e-03,  7.5378e-03, -2.2339e-02,  5.4321e-03,\n",
       "                      -7.0496e-03,  4.2725e-03,  5.0659e-03,  1.1719e-02,  1.2634e-02,\n",
       "                       2.0874e-02, -8.0109e-04,  4.9210e-04,  3.4943e-03, -2.3346e-03,\n",
       "                      -3.9482e-04, -1.6975e-04,  8.0566e-03,  5.5695e-04, -4.2419e-03,\n",
       "                       5.0659e-03,  5.3406e-03, -1.2207e-02, -3.8910e-04,  4.7607e-03,\n",
       "                      -4.9133e-03,  8.4229e-03, -8.5449e-03, -5.1498e-04,  5.9509e-03,\n",
       "                       8.6670e-03,  1.3962e-03,  9.0332e-03,  5.7373e-03, -4.1504e-03,\n",
       "                      -5.6763e-03, -1.1658e-02, -1.7853e-03,  1.2024e-02, -6.0425e-03,\n",
       "                       3.4943e-03,  3.6469e-03, -2.2888e-03,  8.3008e-03,  6.5918e-03,\n",
       "                       9.9945e-04, -2.7466e-03, -7.8125e-03, -4.5166e-03, -8.8501e-03,\n",
       "                       1.7578e-02,  2.0752e-03,  7.2327e-03, -5.1880e-03, -1.9836e-03,\n",
       "                      -1.8845e-03, -6.7749e-03,  6.1951e-03,  4.6997e-03,  3.4027e-03,\n",
       "                      -6.8665e-03, -5.0659e-03,  2.2949e-02,  9.2163e-03,  1.3916e-02,\n",
       "                      -5.6458e-03, -1.5411e-03,  1.6403e-03, -2.5635e-03, -2.0599e-03,\n",
       "                       3.1281e-03,  5.4016e-03, -4.1504e-03, -6.7139e-03,  3.7079e-03,\n",
       "                      -5.9204e-03, -1.4832e-02, -1.1169e-02,  3.6163e-03, -1.0193e-02,\n",
       "                       1.3046e-03,  7.8125e-03, -7.5378e-03,  4.8523e-03, -5.3406e-03,\n",
       "                      -1.1475e-02,  7.5989e-03, -3.0518e-03, -8.6670e-03, -4.6387e-03,\n",
       "                       1.3733e-02, -1.9169e-04, -7.9346e-03,  6.4697e-03, -5.8899e-03,\n",
       "                      -3.9062e-03,  1.9684e-03,  1.4114e-03, -4.4556e-03,  5.4626e-03,\n",
       "                      -1.2695e-02, -1.2085e-02, -1.0864e-02,  9.6436e-03,  8.1177e-03,\n",
       "                       1.5564e-03, -1.7452e-04,  1.2436e-03,  1.8188e-02, -8.1787e-03,\n",
       "                      -2.5177e-03,  7.9346e-03,  2.1362e-02,  1.0559e-02,  2.2736e-03,\n",
       "                      -4.3030e-03,  5.9204e-03, -4.6387e-03,  6.8054e-03, -4.1246e-05,\n",
       "                       6.8970e-03, -8.6670e-03,  6.6528e-03,  1.5182e-03,  9.8877e-03,\n",
       "                      -3.2959e-03, -1.0315e-02, -8.6060e-03, -3.7994e-03,  1.7395e-03,\n",
       "                       4.3640e-03, -7.1716e-03,  1.0010e-02,  1.1719e-02, -9.5215e-03,\n",
       "                       3.6316e-03, -5.8594e-03,  9.7656e-04,  3.5553e-03,  6.8054e-03,\n",
       "                       7.0572e-04, -9.1553e-03,  6.0120e-03,  7.1106e-03, -1.6724e-02,\n",
       "                      -6.8359e-03,  1.2451e-02, -5.8289e-03,  6.8970e-03],\n",
       "                     dtype=torch.bfloat16)),\n",
       "             ('decoders.0.masked_multihead.out_proj.weight',\n",
       "              tensor([[-0.1074,  0.0287,  0.2070,  ...,  0.0977,  0.0150, -0.0214],\n",
       "                      [-0.1196, -0.1357, -0.0991,  ...,  0.1377,  0.1465,  0.0016],\n",
       "                      [ 0.0723, -0.0903,  0.0820,  ...,  0.0747,  0.0327,  0.0059],\n",
       "                      ...,\n",
       "                      [-0.1396, -0.0903, -0.1064,  ...,  0.1250, -0.0850,  0.0547],\n",
       "                      [ 0.0986,  0.1021,  0.0200,  ...,  0.0693, -0.1475,  0.1406],\n",
       "                      [ 0.0859, -0.0767, -0.1001,  ...,  0.0579, -0.1196, -0.1357]],\n",
       "                     dtype=torch.bfloat16)),\n",
       "             ('decoders.0.masked_multihead.out_proj.bias',\n",
       "              tensor([-4.7302e-03,  8.7280e-03, -1.5076e-02,  1.2634e-02, -9.6436e-03,\n",
       "                      -3.9062e-03, -5.7678e-03,  6.9275e-03,  1.0559e-02, -1.2512e-02,\n",
       "                       1.4282e-02,  2.0752e-02,  7.6599e-03,  4.2114e-03,  8.3008e-03,\n",
       "                      -8.4229e-03, -1.3306e-02, -1.1841e-02,  2.1057e-03,  2.3193e-03,\n",
       "                      -1.8692e-03, -3.8300e-03,  1.3367e-02,  5.0659e-03, -1.6846e-02,\n",
       "                       5.5237e-03,  5.0354e-03, -1.4007e-05, -1.1536e-02,  9.0942e-03,\n",
       "                      -1.6724e-02, -9.5215e-03, -1.0376e-02,  9.8877e-03,  5.4626e-03,\n",
       "                      -9.7046e-03,  2.6245e-03,  3.4027e-03, -1.7700e-02, -1.0498e-02,\n",
       "                       1.1414e-02,  7.6599e-03,  1.0010e-02, -4.1504e-03,  3.3722e-03,\n",
       "                       5.4626e-03,  1.0132e-02, -1.0620e-02, -6.8054e-03, -8.1787e-03,\n",
       "                      -5.3406e-03,  5.5237e-03, -3.5706e-03,  4.4250e-03, -1.2268e-02,\n",
       "                      -7.2632e-03,  7.1716e-03,  9.3384e-03,  1.0925e-02,  8.9722e-03,\n",
       "                       4.9133e-03, -5.1880e-03,  7.4463e-03, -2.3174e-04, -5.0659e-03,\n",
       "                      -6.6223e-03,  1.3672e-02,  9.0942e-03, -7.4387e-04,  9.0942e-03,\n",
       "                      -9.2316e-04, -6.5308e-03, -6.8665e-03,  8.9111e-03,  3.0212e-03,\n",
       "                      -9.7046e-03,  6.7139e-03, -9.2773e-03, -9.2163e-03, -1.2512e-03,\n",
       "                      -3.5858e-03, -4.5166e-03, -1.3123e-02, -1.0498e-02,  9.6436e-03,\n",
       "                       5.9204e-03,  6.8665e-03,  9.0942e-03, -9.4604e-04,  8.9111e-03,\n",
       "                      -1.3550e-02, -2.0905e-03,  5.9814e-03,  5.0659e-03, -8.8501e-03,\n",
       "                      -9.5215e-03, -1.1292e-02,  1.9531e-03, -2.0447e-03, -9.6436e-03,\n",
       "                      -1.4282e-02,  6.8359e-03,  1.2512e-02,  2.5635e-03, -1.2665e-03,\n",
       "                      -9.0942e-03,  8.6670e-03, -1.0193e-02, -5.4932e-03, -9.0332e-03,\n",
       "                       2.1820e-03,  9.5825e-03, -9.2316e-04,  6.8359e-03, -4.9438e-03,\n",
       "                      -3.9673e-03,  6.4087e-03,  2.5368e-04, -1.1658e-02, -5.2185e-03,\n",
       "                       8.4839e-03, -2.9907e-03, -8.8501e-03,  1.2451e-02,  1.1230e-02,\n",
       "                      -3.7842e-03,  1.3885e-03,  1.0315e-02], dtype=torch.bfloat16)),\n",
       "             ('decoders.0.linear1.weight',\n",
       "              tensor([[ 0.0344,  0.0503, -0.0134,  ...,  0.0588,  0.0728, -0.0996],\n",
       "                      [ 0.0908,  0.0571, -0.0420,  ..., -0.0825,  0.0408, -0.0762],\n",
       "                      [-0.1211, -0.0143, -0.0889,  ...,  0.0106,  0.0312,  0.0259],\n",
       "                      ...,\n",
       "                      [-0.0255,  0.0898,  0.0576,  ...,  0.0093, -0.0178, -0.0413],\n",
       "                      [ 0.0146, -0.0435,  0.0203,  ...,  0.0232,  0.0325,  0.0089],\n",
       "                      [-0.0173, -0.0337, -0.0347,  ..., -0.0752, -0.0559, -0.0549]],\n",
       "                     dtype=torch.bfloat16)),\n",
       "             ('decoders.0.linear1.bias',\n",
       "              tensor([ 1.9836e-03,  2.2583e-03, -1.7700e-02, -1.3367e-02, -7.9956e-03,\n",
       "                      -1.5503e-02,  1.0315e-02, -9.2163e-03,  1.8677e-02, -8.4839e-03,\n",
       "                      -1.8692e-03, -1.7456e-02, -2.0752e-02, -1.3428e-02, -6.5308e-03,\n",
       "                      -3.1250e-02, -2.0630e-02,  2.2583e-03, -8.6060e-03, -6.6528e-03,\n",
       "                      -1.1597e-02, -1.2268e-02, -1.8921e-02, -2.7710e-02, -5.7373e-03,\n",
       "                       5.7678e-03, -1.5625e-02, -3.0029e-02, -1.2268e-02, -1.7334e-02,\n",
       "                      -2.1973e-02, -1.2024e-02, -2.9053e-02, -3.1982e-02,  1.1536e-02,\n",
       "                       2.2430e-03,  3.6163e-03, -4.5166e-03, -1.6251e-03, -1.9531e-02,\n",
       "                      -1.8387e-03, -9.4604e-03, -8.1787e-03, -3.0975e-03, -1.4099e-02,\n",
       "                       4.1809e-03, -2.2705e-02, -7.9956e-03, -1.0681e-02, -1.0986e-02,\n",
       "                      -5.6763e-03, -2.1851e-02, -3.1982e-02, -1.4725e-03, -7.3853e-03,\n",
       "                      -6.5430e-02, -9.1553e-03,  5.7068e-03, -3.1250e-02, -2.9297e-03,\n",
       "                      -2.4292e-02, -1.4404e-02, -1.2756e-02, -8.2016e-04, -2.3651e-03,\n",
       "                       2.8229e-03, -5.6763e-03, -1.0376e-02, -2.3682e-02, -2.5940e-03,\n",
       "                      -1.0864e-02,  1.6632e-03, -2.3682e-02, -4.2114e-03, -5.4932e-02,\n",
       "                       1.5717e-03,  7.7057e-04, -1.4099e-02,  6.5002e-03, -1.1169e-02,\n",
       "                       1.9531e-03, -2.5146e-02, -1.7548e-04, -1.1963e-02,  5.9814e-03,\n",
       "                      -2.4719e-03, -3.4637e-03, -2.5269e-02, -9.1171e-04, -1.0742e-02,\n",
       "                       3.2806e-03, -1.3611e-02, -3.6163e-03, -5.4359e-05, -1.8234e-03,\n",
       "                      -1.1536e-02, -6.8970e-03, -2.4414e-03, -3.0884e-02,  2.9144e-03,\n",
       "                       1.1292e-02, -1.8311e-02, -1.8677e-02,  1.6479e-03, -1.8616e-03,\n",
       "                      -2.9053e-02, -9.8267e-03, -1.0925e-02, -1.0864e-02, -1.3245e-02,\n",
       "                      -2.7344e-02, -9.8267e-03, -1.4709e-02, -7.1411e-03,  6.5308e-03,\n",
       "                      -1.5747e-02, -7.5989e-03, -1.3885e-03, -1.8066e-02, -1.7700e-02,\n",
       "                       9.3384e-03, -5.5542e-03, -1.2024e-02,  7.1411e-03, -1.0803e-02,\n",
       "                      -2.1973e-02, -9.3384e-03, -5.8899e-03, -1.9897e-02,  1.2131e-03,\n",
       "                      -9.3994e-03, -1.5869e-02, -2.0752e-02, -1.5442e-02, -3.5858e-03,\n",
       "                      -7.3853e-03, -1.3000e-02, -1.1047e-02, -1.8311e-02,  2.5024e-03,\n",
       "                      -3.9978e-03, -1.2634e-02, -4.8523e-03, -7.5378e-03, -1.6846e-02,\n",
       "                       1.6632e-03, -4.1016e-02, -1.3672e-02, -1.2878e-02, -2.1606e-02,\n",
       "                       3.0060e-03,  5.7373e-03,  1.7166e-03, -1.8799e-02, -1.6846e-02,\n",
       "                      -1.7944e-02, -1.0300e-03,  6.7444e-03,  8.1787e-03, -8.3618e-03,\n",
       "                      -2.4658e-02, -1.0803e-02, -9.9487e-03, -8.9111e-03,  2.4414e-03,\n",
       "                      -7.8125e-03, -2.3804e-03, -1.5625e-02,  9.3384e-03, -1.8188e-02,\n",
       "                      -8.4229e-03, -1.0803e-02, -2.6733e-02, -1.2329e-02,  1.4038e-03,\n",
       "                       5.4016e-03, -1.3245e-02, -2.1606e-02, -1.2360e-03, -2.7222e-02,\n",
       "                       8.3923e-04, -2.6611e-02, -1.3916e-02, -7.9956e-03, -1.6022e-03,\n",
       "                      -1.5625e-02, -3.0365e-03, -1.5625e-02, -1.2589e-03,  9.5825e-03,\n",
       "                      -7.4463e-03,  3.0899e-04, -7.8735e-03, -2.2705e-02, -1.6479e-02,\n",
       "                      -2.3804e-02, -1.3245e-02, -1.4221e-02, -2.2461e-02, -1.6113e-02,\n",
       "                       8.2397e-03, -3.4943e-03, -6.9885e-03, -2.6978e-02, -2.0599e-03,\n",
       "                      -6.2256e-03, -8.8501e-03, -6.8970e-03,  1.6632e-03, -1.4282e-02,\n",
       "                      -3.1250e-02,  3.7079e-03, -1.6968e-02,  7.3853e-03, -1.2451e-02,\n",
       "                      -1.3184e-02, -1.1108e-02, -9.9945e-04, -1.2451e-02, -1.1902e-02,\n",
       "                       3.5095e-03, -3.1891e-03,  7.8735e-03, -1.5625e-02, -3.6316e-03,\n",
       "                      -1.8234e-03,  3.1250e-02, -1.1902e-02,  1.6937e-03, -5.7068e-03,\n",
       "                      -2.9144e-03, -1.4099e-02, -1.5015e-02,  5.4932e-03, -1.1963e-02,\n",
       "                      -6.2561e-03,  8.6060e-03, -1.6968e-02, -1.1414e-02,  5.5542e-03,\n",
       "                       1.3733e-02, -1.9043e-02, -9.0942e-03,  5.8899e-03, -1.3306e-02,\n",
       "                       1.3046e-03, -1.5869e-02, -1.1047e-02, -1.8433e-02, -1.8921e-02,\n",
       "                      -1.3916e-02, -9.0942e-03, -2.4414e-02, -4.3640e-03,  1.8768e-03,\n",
       "                       6.1035e-05, -1.0986e-02, -1.4343e-02, -1.4221e-02, -2.0874e-02,\n",
       "                      -1.5640e-04,  3.9978e-03, -9.8267e-03, -1.0315e-02, -5.0659e-03,\n",
       "                      -7.4768e-03, -1.0620e-02, -1.6724e-02, -1.3000e-02, -5.9814e-03,\n",
       "                      -2.4292e-02,  2.3193e-03, -1.4954e-02,  9.5215e-03, -1.5320e-02,\n",
       "                      -5.4321e-03,  9.7656e-03, -9.1553e-03, -2.4170e-02, -6.4392e-03,\n",
       "                      -1.4587e-02,  6.2561e-04,  3.9673e-03, -4.9744e-03,  7.0572e-04,\n",
       "                      -4.7874e-04, -7.0801e-03, -1.0376e-02, -1.0742e-02, -1.3428e-02,\n",
       "                      -3.8574e-02, -9.7046e-03, -9.0408e-04, -1.3275e-03, -1.0803e-02,\n",
       "                      -2.5146e-02,  4.1504e-03, -9.8267e-03, -8.9722e-03,  8.7738e-04,\n",
       "                      -7.1716e-03, -5.2246e-02, -1.7014e-03, -7.4158e-03, -3.7354e-02,\n",
       "                       6.9046e-04, -6.1646e-03, -2.1057e-03, -3.4485e-03,  2.0599e-03,\n",
       "                      -1.5259e-02, -8.5449e-03,  1.2756e-02, -4.1199e-03, -9.5825e-03,\n",
       "                       2.5024e-03,  6.3705e-04, -1.8921e-03,  8.3160e-04, -2.5635e-02,\n",
       "                      -9.1553e-03, -5.1880e-03, -3.9673e-03, -1.5625e-02,  4.1809e-03,\n",
       "                      -4.6692e-03, -1.2878e-02,  4.3335e-03, -1.5625e-02, -1.1292e-02,\n",
       "                      -2.3560e-02,  3.5858e-03,  3.9978e-03, -7.8125e-03, -6.2866e-03,\n",
       "                      -1.8066e-02, -2.4872e-03, -7.3242e-03, -3.0518e-02, -4.3213e-02,\n",
       "                      -3.8605e-03,  5.7983e-03, -1.2878e-02,  9.2163e-03, -1.8921e-02,\n",
       "                      -1.5625e-02, -1.3000e-02, -2.9602e-03, -8.9722e-03, -8.3618e-03,\n",
       "                      -3.9307e-02, -1.0559e-02, -1.1230e-02, -1.7700e-02, -2.1606e-02,\n",
       "                      -2.0630e-02,  9.3994e-03,  6.6223e-03, -2.8198e-02, -9.2163e-03,\n",
       "                      -2.1729e-02, -3.1433e-03, -1.8311e-02, -2.1484e-02, -1.1230e-02,\n",
       "                      -1.4404e-02, -7.8125e-03, -1.6937e-03, -1.0559e-02,  9.6512e-04,\n",
       "                      -2.0996e-02, -2.2583e-02, -1.3245e-02, -1.7700e-02, -1.2146e-02,\n",
       "                      -1.7944e-02,  4.3640e-03,  4.1504e-03,  3.8300e-03, -4.8523e-03,\n",
       "                      -4.4250e-03, -2.4048e-02, -2.0447e-03,  5.0964e-03, -2.2095e-02,\n",
       "                      -1.1169e-02, -2.5635e-02, -1.4648e-02,  6.2561e-03,  1.7334e-02,\n",
       "                       4.6692e-03,  5.4550e-04, -6.2866e-03, -1.4038e-02,  3.5095e-03,\n",
       "                      -2.9053e-02, -8.2779e-04, -3.7354e-02, -8.4229e-03, -2.0630e-02,\n",
       "                      -9.9182e-04, -1.2817e-02,  1.5564e-02,  4.3335e-03, -1.9775e-02,\n",
       "                      -5.7678e-03,  8.0109e-04, -1.0132e-02, -3.8147e-03, -7.0190e-03,\n",
       "                      -6.1340e-03, -1.2634e-02, -2.3315e-02, -1.1353e-02, -1.5869e-02,\n",
       "                      -6.5918e-03,  3.8300e-03, -1.7456e-02,  7.8583e-04, -1.2268e-02,\n",
       "                      -6.6223e-03,  3.2425e-04,  1.0452e-03,  5.1270e-03, -2.6245e-02,\n",
       "                      -4.0527e-02, -9.3384e-03, -2.1362e-02, -1.1414e-02,  2.4719e-03,\n",
       "                      -6.4392e-03, -7.0801e-03,  1.4648e-03, -1.7014e-03, -6.8970e-03,\n",
       "                      -1.1292e-02, -1.2573e-02, -1.5793e-03, -8.2779e-04, -5.7068e-03,\n",
       "                      -1.7822e-02, -2.1820e-03,  5.2795e-03,  3.1281e-03, -1.2817e-02,\n",
       "                      -1.2390e-02,  3.8338e-04, -1.4420e-03, -1.1047e-02, -7.8125e-03,\n",
       "                      -2.4170e-02,  1.0559e-02, -7.9346e-03, -2.6978e-02, -4.3030e-03,\n",
       "                       1.2741e-03,  3.9978e-03, -1.0925e-02, -2.1667e-03, -3.7842e-02,\n",
       "                      -9.6436e-03, -1.6861e-03, -1.0010e-02, -1.5564e-02,  3.2997e-04,\n",
       "                      -1.2695e-02,  1.1444e-03,  3.2806e-03, -3.9062e-03, -8.3008e-03,\n",
       "                       7.9346e-03, -1.5320e-02, -1.1292e-02, -9.2773e-03, -1.3184e-02,\n",
       "                      -1.2329e-02, -7.8125e-03,  4.6692e-03, -7.6599e-03,  1.6724e-02,\n",
       "                       6.9885e-03,  4.2725e-03, -2.2827e-02, -6.9580e-03, -2.9419e-02,\n",
       "                      -6.4392e-03, -2.1484e-02, -4.3030e-03,  4.1199e-03, -3.1250e-02,\n",
       "                      -1.1902e-02, -7.2327e-03, -2.0313e-04,  1.5335e-03,  2.2736e-03,\n",
       "                       9.0790e-04, -2.5757e-02, -1.0681e-02, -1.4221e-02, -2.7832e-02,\n",
       "                      -2.2705e-02, -9.2773e-03, -2.2736e-03, -1.7166e-03, -8.1787e-03,\n",
       "                      -1.2634e-02, -1.2573e-02, -1.7319e-03, -2.1118e-02, -3.0396e-02,\n",
       "                      -1.5625e-02, -1.5442e-02], dtype=torch.bfloat16)),\n",
       "             ('decoders.0.linear2.weight',\n",
       "              tensor([[ 0.0339, -0.0352, -0.0312,  ...,  0.0422, -0.0454,  0.0216],\n",
       "                      [ 0.0464,  0.0571, -0.0386,  ...,  0.0571, -0.0781, -0.0520],\n",
       "                      [ 0.0996,  0.0109,  0.0374,  ...,  0.0258,  0.0415,  0.0201],\n",
       "                      ...,\n",
       "                      [ 0.0986,  0.0123, -0.0815,  ..., -0.0188,  0.0124, -0.0908],\n",
       "                      [-0.0598,  0.0908, -0.0515,  ..., -0.1147,  0.0261, -0.0486],\n",
       "                      [-0.0452,  0.0260, -0.0591,  ..., -0.0625, -0.0537, -0.0791]],\n",
       "                     dtype=torch.bfloat16)),\n",
       "             ('decoders.0.linear2.bias',\n",
       "              tensor([-0.0014,  0.0050,  0.0125,  0.0015, -0.0080,  0.0112, -0.0039,  0.0115,\n",
       "                       0.0150,  0.0012,  0.0118,  0.0146,  0.0081,  0.0090,  0.0049, -0.0084,\n",
       "                      -0.0098, -0.0053,  0.0092, -0.0027, -0.0043,  0.0045,  0.0063,  0.0030,\n",
       "                      -0.0029,  0.0149, -0.0141, -0.0018, -0.0071,  0.0048, -0.0140, -0.0054,\n",
       "                      -0.0085,  0.0093,  0.0150, -0.0056,  0.0133, -0.0006, -0.0048, -0.0097,\n",
       "                       0.0105,  0.0042,  0.0118, -0.0081,  0.0037, -0.0068,  0.0025, -0.0089,\n",
       "                      -0.0125, -0.0055,  0.0072,  0.0090, -0.0150,  0.0134, -0.0051, -0.0050,\n",
       "                       0.0056, -0.0021,  0.0070,  0.0131,  0.0156, -0.0093,  0.0062, -0.0063,\n",
       "                      -0.0156, -0.0255, -0.0008,  0.0101,  0.0010,  0.0033, -0.0017, -0.0145,\n",
       "                      -0.0085,  0.0127, -0.0067, -0.0089,  0.0066, -0.0061, -0.0078, -0.0098,\n",
       "                       0.0015, -0.0073, -0.0160, -0.0054,  0.0091,  0.0018,  0.0082,  0.0091,\n",
       "                       0.0009,  0.0104, -0.0084, -0.0050, -0.0012,  0.0156, -0.0110, -0.0078,\n",
       "                      -0.0060, -0.0168, -0.0100,  0.0058, -0.0073,  0.0141, -0.0081,  0.0094,\n",
       "                      -0.0048, -0.0031,  0.0107, -0.0080, -0.0016, -0.0070, -0.0143,  0.0069,\n",
       "                      -0.0003,  0.0021, -0.0071, -0.0025,  0.0107, -0.0139, -0.0004, -0.0055,\n",
       "                       0.0050, -0.0079, -0.0077,  0.0061,  0.0123, -0.0084,  0.0010,  0.0097],\n",
       "                     dtype=torch.bfloat16)),\n",
       "             ('classifier.weight',\n",
       "              tensor([[ 6.9336e-02, -5.8594e-02,  2.5749e-05,  ...,  8.1055e-02,\n",
       "                        8.1543e-02, -2.4780e-02],\n",
       "                      [ 2.5635e-02,  4.2236e-02, -5.3467e-02,  ..., -4.5410e-02,\n",
       "                        2.2827e-02,  4.8828e-02],\n",
       "                      [ 3.9551e-02, -4.3213e-02,  7.8125e-02,  ...,  8.3496e-02,\n",
       "                        4.2480e-02, -2.8442e-02],\n",
       "                      ...,\n",
       "                      [ 9.8633e-02, -5.6763e-03,  4.3945e-03,  ...,  3.2959e-02,\n",
       "                        5.5908e-02, -1.0938e-01],\n",
       "                      [-1.1658e-02, -4.8340e-02,  1.9165e-02,  ...,  9.4238e-02,\n",
       "                        8.6914e-02, -1.1377e-01],\n",
       "                      [ 5.5420e-02, -7.8125e-03,  8.4961e-02,  ...,  4.0771e-02,\n",
       "                        6.5918e-02, -3.6621e-02]], dtype=torch.bfloat16))])"
      ]
     },
     "execution_count": 15,
     "metadata": {},
     "output_type": "execute_result"
    }
   ],
   "source": [
    "d['state_dict']"
   ]
  },
  {
   "cell_type": "code",
   "execution_count": 16,
   "metadata": {},
   "outputs": [
    {
     "data": {
      "text/plain": [
       "<All keys matched successfully>"
      ]
     },
     "execution_count": 16,
     "metadata": {},
     "output_type": "execute_result"
    }
   ],
   "source": [
    "model = BoutiqueLM(\n",
    "    vocab_stories_size=1000,\n",
    "    num_layers=1,\n",
    "    num_heads=8,\n",
    "    hidden_dim=128,\n",
    "    activation=nn.GELU,\n",
    "    max_len=10000\n",
    ")\n",
    "\n",
    "model.load_state_dict(d['state_dict'])"
   ]
  },
  {
   "cell_type": "code",
   "execution_count": 19,
   "metadata": {},
   "outputs": [
    {
     "data": {
      "text/plain": [
       "'Bob ran to his friend, a bird named Sue. Bob said, \"Sue, I saw a hunter in the'"
      ]
     },
     "execution_count": 19,
     "metadata": {},
     "output_type": "execute_result"
    }
   ],
   "source": [
    "s = \"Bob ran to his friend, a bird named Sue. Bob said, \\\"Sue, I saw a hunter in the\"\n",
    "s"
   ]
  },
  {
   "cell_type": "code",
   "execution_count": 21,
   "metadata": {},
   "outputs": [
    {
     "data": {
      "text/plain": [
       "'Bob and Sue hid in a small hole. The hunter came near, but he did not see them. a new things. They were playing. The ball near, a big unknown animal was scared. They were happy. They were playing in the man'"
      ]
     },
     "execution_count": 21,
     "metadata": {},
     "output_type": "execute_result"
    }
   ],
   "source": [
    "generate_story(model=model, tokenizer=tokenizer, beginning=\"Bob and Sue hid in a small hole. The hunter came near, but he did not see them.\", story_length=30)"
   ]
  }
 ],
 "metadata": {
  "colab": {
   "provenance": []
  },
  "kernelspec": {
   "display_name": "Python 3",
   "language": "python",
   "name": "python3"
  },
  "language_info": {
   "codemirror_mode": {
    "name": "ipython",
    "version": 3
   },
   "file_extension": ".py",
   "mimetype": "text/x-python",
   "name": "python",
   "nbconvert_exporter": "python",
   "pygments_lexer": "ipython3",
   "version": "3.10.12"
  },
  "notebookId": "81a795a0-29c1-4869-a070-5a252b92a4ca",
  "notebookPath": "bhw1.ipynb"
 },
 "nbformat": 4,
 "nbformat_minor": 4
}
