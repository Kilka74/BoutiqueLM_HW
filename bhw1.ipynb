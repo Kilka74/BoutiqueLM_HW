{
 "cells": [
  {
   "cell_type": "code",
   "execution_count": 1,
   "metadata": {
    "cellId": "5d8eij28p2jf96db0kva39",
    "colab": {
     "base_uri": "https://localhost:8080/"
    },
    "execution": {
     "iopub.execute_input": "2023-11-28T12:52:38.341961567Z",
     "iopub.status.busy": "2023-11-28T12:52:39.350197Z",
     "iopub.status.idle": "2023-11-28T12:52:47.741624Z",
     "shell.execute_reply": "2023-11-28T12:52:47.740848Z",
     "shell.execute_reply.started": "2023-11-28T12:52:39.351159Z"
    },
    "id": "CUxDJEBB0M6K",
    "outputId": "f1d4a456-eb99-426e-cc13-aef47f833be4",
    "tags": []
   },
   "outputs": [
    {
     "name": "stdout",
     "output_type": "stream",
     "text": [
      "Defaulting to user installation because normal site-packages is not writeable\n",
      "Requirement already satisfied: sentencepiece in /home/jupyter/.local/lib/python3.10/site-packages (0.1.99)\n",
      "\n",
      "\u001b[1m[\u001b[0m\u001b[34;49mnotice\u001b[0m\u001b[1;39;49m]\u001b[0m\u001b[39;49m A new release of pip is available: \u001b[0m\u001b[31;49m23.2.1\u001b[0m\u001b[39;49m -> \u001b[0m\u001b[32;49m23.3.1\u001b[0m\n",
      "\u001b[1m[\u001b[0m\u001b[34;49mnotice\u001b[0m\u001b[1;39;49m]\u001b[0m\u001b[39;49m To update, run: \u001b[0m\u001b[32;49mpython3 -m pip install --upgrade pip\u001b[0m\n",
      "Defaulting to user installation because normal site-packages is not writeable\n",
      "Requirement already satisfied: wandb in /home/jupyter/.local/lib/python3.10/site-packages (0.16.0)\n",
      "Requirement already satisfied: Click!=8.0.0,>=7.1 in /usr/local/lib/python3.10/dist-packages (from wandb) (8.1.6)\n",
      "Requirement already satisfied: GitPython!=3.1.29,>=1.0.0 in /usr/local/lib/python3.10/dist-packages (from wandb) (3.1.32)\n",
      "Requirement already satisfied: requests<3,>=2.0.0 in /usr/local/lib/python3.10/dist-packages (from wandb) (2.27.1)\n",
      "Requirement already satisfied: psutil>=5.0.0 in /kernel/lib/python3.10/site-packages (from wandb) (5.7.3)\n",
      "Requirement already satisfied: sentry-sdk>=1.0.0 in /home/jupyter/.local/lib/python3.10/site-packages (from wandb) (1.34.0)\n",
      "Requirement already satisfied: docker-pycreds>=0.4.0 in /home/jupyter/.local/lib/python3.10/site-packages (from wandb) (0.4.0)\n",
      "Requirement already satisfied: PyYAML in /usr/local/lib/python3.10/dist-packages (from wandb) (6.0.1)\n",
      "Requirement already satisfied: setproctitle in /home/jupyter/.local/lib/python3.10/site-packages (from wandb) (1.3.3)\n",
      "Requirement already satisfied: setuptools in /kernel/lib/python3.10/site-packages (from wandb) (51.0.0)\n",
      "Requirement already satisfied: appdirs>=1.4.3 in /usr/local/lib/python3.10/dist-packages (from wandb) (1.4.4)\n",
      "Requirement already satisfied: protobuf!=4.21.0,<5,>=3.19.0 in /usr/local/lib/python3.10/dist-packages (from wandb) (3.20.3)\n",
      "Requirement already satisfied: six>=1.4.0 in /kernel/lib/python3.10/site-packages (from docker-pycreds>=0.4.0->wandb) (1.16.0)\n",
      "Requirement already satisfied: gitdb<5,>=4.0.1 in /usr/local/lib/python3.10/dist-packages (from GitPython!=3.1.29,>=1.0.0->wandb) (4.0.10)\n",
      "Requirement already satisfied: urllib3<1.27,>=1.21.1 in /home/jupyter/.local/lib/python3.10/site-packages (from requests<3,>=2.0.0->wandb) (1.26.18)\n",
      "Requirement already satisfied: certifi>=2017.4.17 in /kernel/lib/python3.10/site-packages (from requests<3,>=2.0.0->wandb) (2023.7.22)\n",
      "Collecting charset-normalizer~=2.0.0 (from requests<3,>=2.0.0->wandb)\n",
      "  Downloading charset_normalizer-2.0.12-py3-none-any.whl (39 kB)\n",
      "Requirement already satisfied: idna<4,>=2.5 in /kernel/lib/python3.10/site-packages (from requests<3,>=2.0.0->wandb) (3.4)\n",
      "Requirement already satisfied: smmap<6,>=3.0.1 in /usr/local/lib/python3.10/dist-packages (from gitdb<5,>=4.0.1->GitPython!=3.1.29,>=1.0.0->wandb) (5.0.0)\n",
      "Installing collected packages: charset-normalizer\n",
      "\u001b[33m  WARNING: The script normalizer is installed in '/home/jupyter/.local/bin' which is not on PATH.\n",
      "  Consider adding this directory to PATH or, if you prefer to suppress this warning, use --no-warn-script-location.\u001b[0m\u001b[33m\n",
      "\u001b[0mSuccessfully installed charset-normalizer-2.0.12\n",
      "\n",
      "\u001b[1m[\u001b[0m\u001b[34;49mnotice\u001b[0m\u001b[1;39;49m]\u001b[0m\u001b[39;49m A new release of pip is available: \u001b[0m\u001b[31;49m23.2.1\u001b[0m\u001b[39;49m -> \u001b[0m\u001b[32;49m23.3.1\u001b[0m\n",
      "\u001b[1m[\u001b[0m\u001b[34;49mnotice\u001b[0m\u001b[1;39;49m]\u001b[0m\u001b[39;49m To update, run: \u001b[0m\u001b[32;49mpython3 -m pip install --upgrade pip\u001b[0m\n"
     ]
    }
   ],
   "source": [
    "%pip install sentencepiece\n",
    "%pip install wandb"
   ]
  },
  {
   "cell_type": "code",
   "execution_count": 1,
   "metadata": {
    "cellId": "dsaivjgujulfhvq59d0365",
    "execution": {
     "iopub.execute_input": "2023-11-28T19:59:08.565975921Z",
     "iopub.status.busy": "2023-11-28T19:59:09.564379Z",
     "iopub.status.idle": "2023-11-28T19:59:11.201391Z",
     "shell.execute_reply": "2023-11-28T19:59:11.200778Z",
     "shell.execute_reply.started": "2023-11-28T19:59:09.564724Z"
    },
    "id": "z_ZKvWnmzj0b"
   },
   "outputs": [
    {
     "name": "stderr",
     "output_type": "stream",
     "text": [
      "/home/kolya/Univer/homeworks_4/DL2/bhw1/train.py:190: SyntaxWarning: list indices must be integers or slices, not tuple; perhaps you missed a comma?\n",
      "  inputs[\"input_ids\"] = torch.cat((inputs[\"input_ids\"], torch.tensor([pred_token][:, None])), dim=-1)\n",
      "/home/kolya/.local/lib/python3.10/site-packages/torch/cuda/amp/grad_scaler.py:125: UserWarning: torch.cuda.amp.GradScaler is enabled, but CUDA is not available.  Disabling.\n",
      "  warnings.warn(\n"
     ]
    }
   ],
   "source": [
    "#!g2.1\n",
    "import json\n",
    "from torch.utils.data import DataLoader\n",
    "import sentencepiece as spm\n",
    "from dataset import TinyStoriesDataset\n",
    "from train import *\n",
    "from model import *\n",
    "import torch\n",
    "import matplotlib.pyplot as plt"
   ]
  },
  {
   "cell_type": "code",
   "execution_count": 2,
   "metadata": {
    "cellId": "kb2xrja47ysah3syt0enoj",
    "execution": {
     "iopub.execute_input": "2023-11-28T19:59:24.604754445Z",
     "iopub.status.busy": "2023-11-28T19:59:25.632415Z",
     "iopub.status.idle": "2023-11-28T19:59:25.664506Z",
     "shell.execute_reply": "2023-11-28T19:59:25.663924Z",
     "shell.execute_reply.started": "2023-11-28T19:59:25.633000Z"
    },
    "id": "NE4WppAVzj0g"
   },
   "outputs": [],
   "source": [
    "#!g2.1\n",
    "%load_ext autoreload\n",
    "%autoreload 2"
   ]
  },
  {
   "cell_type": "code",
   "execution_count": null,
   "metadata": {
    "cellId": "984oapcs9t8i7h0iyghyd"
   },
   "outputs": [],
   "source": [
    "import json\n",
    "with open(\"jsons/data00.json\") as f:\n",
    "    string = f.readline()\n",
    "    js = json.loads(string)\n",
    "    for story in js:\n",
    "        print(\"-----------\")\n",
    "        print(story[\"story\"])\n",
    "        break"
   ]
  },
  {
   "cell_type": "code",
   "execution_count": 3,
   "metadata": {
    "cellId": "u11bqdor7fuilreks652",
    "execution": {
     "iopub.execute_input": "2023-11-28T19:59:30.148910869Z",
     "iopub.status.busy": "2023-11-28T19:59:31.158816Z",
     "iopub.status.idle": "2023-11-28T19:59:31.213937Z",
     "shell.execute_reply": "2023-11-28T19:59:31.213365Z",
     "shell.execute_reply.started": "2023-11-28T19:59:31.159291Z"
    }
   },
   "outputs": [],
   "source": [
    "#!g2.1\n",
    "#tokenization file\n",
    "import os\n",
    "import json\n",
    "\n",
    "files = sorted(os.listdir(\"jsons/\"))\n",
    "with open(\"tokenization_file\", \"w+\") as f:\n",
    "    for file in tqdm(files[:10]):\n",
    "        with open(f\"jsons/{file}\", 'r') as g:\n",
    "            stories = json.loads(g.readline())\n",
    "            for story in stories:\n",
    "                f.write(story[\"story\"])\n",
    "        g.close()\n",
    "f.close()\n",
    "\n",
    "spm.SentencePieceTrainer.train(\n",
    "    input=\"tokenization_file\",\n",
    "    vocab_size=5000,\n",
    "    model_type=\"bpe\",\n",
    "    model_prefix=\"tiny_stories_5k\",\n",
    "    pad_id=0, bos_id=1, eos_id=2, unk_id=3\n",
    ")\n",
    "tokenizer = spm.SentencePieceProcessor(model_file=\"tiny_stories_5k.model\")"
   ]
  },
  {
   "cell_type": "code",
   "execution_count": 9,
   "metadata": {
    "cellId": "4hzha3qdmhup4nhmpx5jmo",
    "execution": {
     "iopub.execute_input": "2023-11-28T13:09:13.427727859Z",
     "iopub.status.busy": "2023-11-28T13:09:14.473449Z",
     "iopub.status.idle": "2023-11-28T13:09:14.808053Z",
     "shell.execute_reply": "2023-11-28T13:09:14.807274Z",
     "shell.execute_reply.started": "2023-11-28T13:09:14.473900Z"
    }
   },
   "outputs": [
    {
     "name": "stdout",
     "output_type": "stream",
     "text": [
      "3206341 tokenization_file\n"
     ]
    }
   ],
   "source": [
    "!wc -l tokenization_file"
   ]
  },
  {
   "cell_type": "code",
   "execution_count": 4,
   "metadata": {
    "cellId": "uzxd2utidouje1oguw1vh",
    "execution": {
     "iopub.execute_input": "2023-11-28T19:59:34.626275776Z",
     "iopub.status.busy": "2023-11-28T19:59:35.679254Z",
     "iopub.status.idle": "2023-11-28T19:59:36.978298Z",
     "shell.execute_reply": "2023-11-28T19:59:36.977674Z",
     "shell.execute_reply.started": "2023-11-28T19:59:35.679672Z"
    }
   },
   "outputs": [
    {
     "name": "stdout",
     "output_type": "stream",
     "text": [
      "torch.int64\n",
      "torch.int64\n"
     ]
    }
   ],
   "source": [
    "#!g2.1\n",
    "from tqdm import tqdm\n",
    "#datasets\n",
    "files = [\"a\", \"a\"]\n",
    "train_dataset = TinyStoriesDataset(files=files[:-1], tokenizer=tokenizer, load_from_memory=True, filename='train_dataset.pt')\n",
    "val_dataset = TinyStoriesDataset(files=[files[-1]], tokenizer=tokenizer, load_from_memory=True, filename='val_dataset.pt')"
   ]
  },
  {
   "cell_type": "code",
   "execution_count": 5,
   "metadata": {
    "cellId": "s11gvhq28g7o71a6fs0m",
    "execution": {
     "iopub.execute_input": "2023-11-28T19:59:40.518251136Z",
     "iopub.status.busy": "2023-11-28T19:59:41.508110Z",
     "iopub.status.idle": "2023-11-28T19:59:41.539151Z",
     "shell.execute_reply": "2023-11-28T19:59:41.538511Z",
     "shell.execute_reply.started": "2023-11-28T19:59:41.508561Z"
    }
   },
   "outputs": [
    {
     "data": {
      "text/plain": [
       "4900000"
      ]
     },
     "execution_count": 5,
     "metadata": {},
     "output_type": "execute_result"
    }
   ],
   "source": [
    "#!g2.1\n",
    "len(train_dataset)"
   ]
  },
  {
   "cell_type": "code",
   "execution_count": 39,
   "metadata": {
    "cellId": "31adl8ka3kird6ng21hm",
    "execution": {
     "iopub.execute_input": "2023-11-28T16:26:57.264325415Z",
     "iopub.status.busy": "2023-11-28T16:29:41.230400Z",
     "iopub.status.idle": "2023-11-28T16:32:24.921403Z",
     "shell.execute_reply": "2023-11-28T16:32:24.920577Z",
     "shell.execute_reply.started": "2023-11-28T16:29:41.230936Z"
    }
   },
   "outputs": [],
   "source": [
    "torch.save(train_dataset.corpus, \"train_dataset.pt\")"
   ]
  },
  {
   "cell_type": "code",
   "execution_count": 40,
   "metadata": {
    "cellId": "vt1tq6ngctjn1q4g3sddgq",
    "execution": {
     "iopub.execute_input": "2023-11-28T16:32:30.756312613Z",
     "iopub.status.busy": "2023-11-28T16:32:31.709912Z",
     "iopub.status.idle": "2023-11-28T16:32:33.471273Z",
     "shell.execute_reply": "2023-11-28T16:32:33.470385Z",
     "shell.execute_reply.started": "2023-11-28T16:32:31.710837Z"
    }
   },
   "outputs": [],
   "source": [
    "torch.save(val_dataset.corpus, \"val_dataset.pt\")"
   ]
  },
  {
   "cell_type": "code",
   "execution_count": 14,
   "metadata": {
    "cellId": "ho5ikdcj5qyclsunaml4",
    "execution": {
     "iopub.execute_input": "2023-11-28T13:19:25.159780502Z",
     "iopub.status.busy": "2023-11-28T13:21:00.985218Z",
     "iopub.status.idle": "2023-11-28T13:21:02.612668Z",
     "shell.execute_reply": "2023-11-28T13:21:02.611886Z",
     "shell.execute_reply.started": "2023-11-28T13:21:00.986270Z"
    }
   },
   "outputs": [
    {
     "data": {
      "text/plain": [
       "'Hello, \" How are you??? I want to meet with you! I don\\'t want to speak in chat'"
      ]
     },
     "execution_count": 14,
     "metadata": {},
     "output_type": "execute_result"
    }
   ],
   "source": [
    "tokenizer.decode(tokenizer.encode(\"Hello, \\\" How are you??? I want to meet with you! I don't want to speak in chat\", add_eos=True))"
   ]
  },
  {
   "cell_type": "code",
   "execution_count": 15,
   "metadata": {
    "cellId": "83z5ws7msmmhtyuj1s2nyg",
    "execution": {
     "iopub.execute_input": "2023-11-28T13:21:08.815280401Z",
     "iopub.status.busy": "2023-11-28T13:22:40.509336Z",
     "iopub.status.idle": "2023-11-28T13:22:48.422916Z",
     "shell.execute_reply": "2023-11-28T13:22:48.422180Z",
     "shell.execute_reply.started": "2023-11-28T13:22:40.509677Z"
    }
   },
   "outputs": [
    {
     "data": {
      "text/plain": [
       "67871"
      ]
     },
     "execution_count": 15,
     "metadata": {},
     "output_type": "execute_result"
    }
   ],
   "source": [
    "#!g2.1\n",
    "len(val_dataset)"
   ]
  },
  {
   "cell_type": "code",
   "execution_count": 6,
   "metadata": {
    "cellId": "4n9v13orpx76t7xrxrs4a4",
    "execution": {
     "iopub.execute_input": "2023-11-28T19:59:45.087675337Z",
     "iopub.status.busy": "2023-11-28T19:59:46.028346Z",
     "iopub.status.idle": "2023-11-28T19:59:46.157349Z",
     "shell.execute_reply": "2023-11-28T19:59:46.156676Z",
     "shell.execute_reply.started": "2023-11-28T19:59:46.028848Z"
    },
    "id": "f4F_ie4-3OG6"
   },
   "outputs": [],
   "source": [
    "#!g2.1\n",
    "device = torch.device(\"cuda:0\")"
   ]
  },
  {
   "cell_type": "code",
   "execution_count": 7,
   "metadata": {
    "cellId": "jcmtonp99dvd5rkypeja",
    "execution": {
     "iopub.execute_input": "2023-11-28T19:59:47.035650308Z",
     "iopub.status.busy": "2023-11-28T19:59:48.050280Z",
     "iopub.status.idle": "2023-11-28T19:59:48.259902Z",
     "shell.execute_reply": "2023-11-28T19:59:48.259415Z",
     "shell.execute_reply.started": "2023-11-28T19:59:48.050727Z"
    }
   },
   "outputs": [
    {
     "name": "stdout",
     "output_type": "stream",
     "text": [
      "Tue Nov 28 19:59:48 2023       \n",
      "+-----------------------------------------------------------------------------+\n",
      "| NVIDIA-SMI 525.147.05   Driver Version: 525.147.05   CUDA Version: 12.0     |\n",
      "|-------------------------------+----------------------+----------------------+\n",
      "| GPU  Name        Persistence-M| Bus-Id        Disp.A | Volatile Uncorr. ECC |\n",
      "| Fan  Temp  Perf  Pwr:Usage/Cap|         Memory-Usage | GPU-Util  Compute M. |\n",
      "|                               |                      |               MIG M. |\n",
      "|===============================+======================+======================|\n",
      "|   0  NVIDIA A100-SXM...  On   | 00000000:8C:00.0 Off |                    0 |\n",
      "| N/A   29C    P0    49W / 500W |      9MiB / 81920MiB |      0%      Default |\n",
      "|                               |                      |             Disabled |\n",
      "+-------------------------------+----------------------+----------------------+\n",
      "                                                                               \n",
      "+-----------------------------------------------------------------------------+\n",
      "| Processes:                                                                  |\n",
      "|  GPU   GI   CI        PID   Type   Process name                  GPU Memory |\n",
      "|        ID   ID                                                   Usage      |\n",
      "|=============================================================================|\n",
      "|    0   N/A  N/A      1160      G   /usr/lib/xorg/Xorg                  4MiB |\n",
      "+-----------------------------------------------------------------------------+\n"
     ]
    }
   ],
   "source": [
    "#!g2.1\n",
    "!nvidia-smi"
   ]
  },
  {
   "cell_type": "code",
   "execution_count": 41,
   "metadata": {
    "cellId": "mj4h1zujp5kq5iqcqjdoja",
    "execution": {
     "iopub.execute_input": "2023-11-28T19:58:41.071155576Z",
     "iopub.status.busy": "2023-11-28T19:58:42.309050Z",
     "iopub.status.idle": "2023-11-28T19:58:42.488840Z",
     "shell.execute_reply": "2023-11-28T19:58:42.488191Z",
     "shell.execute_reply.started": "2023-11-28T19:58:42.309386Z"
    }
   },
   "outputs": [],
   "source": [
    "#!g2.1\n",
    "torch.cuda.empty_cache()"
   ]
  },
  {
   "cell_type": "code",
   "execution_count": 45,
   "metadata": {
    "cellId": "5tjk50hd638rfki9k065d",
    "execution": {
     "iopub.execute_input": "2023-11-28T19:59:50.844921900Z",
     "iopub.status.busy": "2023-11-28T19:59:51.863772Z",
     "iopub.status.idle": "2023-11-28T19:59:53.306859Z",
     "shell.execute_reply": "2023-11-28T19:59:53.306175Z",
     "shell.execute_reply.started": "2023-11-28T19:59:51.864321Z"
    },
    "id": "LyN6vxbYzj0q"
   },
   "outputs": [],
   "source": [
    "#!g2.1\n",
    "from model import BoutiqueLM\n",
    "decoder = BoutiqueLM(\n",
    "    vocab_stories_size=5000,\n",
    "    num_layers=8,\n",
    "    num_heads=8,\n",
    "    hidden_dim=512,\n",
    "    activation=nn.GELU,\n",
    "    max_len=10000\n",
    ").to(device)"
   ]
  },
  {
   "cell_type": "code",
   "execution_count": 8,
   "metadata": {
    "cellId": "yv84zug40mpe42zhk4o82d",
    "execution": {
     "iopub.execute_input": "2023-11-28T17:58:50.131005060Z",
     "iopub.status.busy": "2023-11-28T17:58:51.164369Z",
     "iopub.status.idle": "2023-11-28T17:58:51.303675Z",
     "shell.execute_reply": "2023-11-28T17:58:51.302973Z",
     "shell.execute_reply.started": "2023-11-28T17:58:51.164730Z"
    }
   },
   "outputs": [],
   "source": [
    "#!g2.1\n",
    "decoder.positional_encoding.cos_cached"
   ]
  },
  {
   "cell_type": "code",
   "execution_count": 9,
   "metadata": {
    "cellId": "s98935mq1keuk2whw46b",
    "colab": {
     "base_uri": "https://localhost:8080/"
    },
    "execution": {
     "iopub.execute_input": "2023-11-28T17:59:01.094169572Z",
     "iopub.status.busy": "2023-11-28T17:59:02.204424Z",
     "iopub.status.idle": "2023-11-28T17:59:02.256408Z",
     "shell.execute_reply": "2023-11-28T17:59:02.255700Z",
     "shell.execute_reply.started": "2023-11-28T17:59:02.204779Z"
    },
    "id": "cPa3A1aezj0q",
    "outputId": "be889fe1-9911-43e5-b177-27c78e654ced"
   },
   "outputs": [
    {
     "data": {
      "text/plain": [
       "30285824"
      ]
     },
     "execution_count": 9,
     "metadata": {},
     "output_type": "execute_result"
    }
   ],
   "source": [
    "#!g2.1\n",
    "sum(p.numel() for p in decoder.parameters())"
   ]
  },
  {
   "cell_type": "code",
   "execution_count": 47,
   "metadata": {},
   "outputs": [
    {
     "data": {
      "text/plain": [
       "30285824"
      ]
     },
     "execution_count": 47,
     "metadata": {},
     "output_type": "execute_result"
    }
   ],
   "source": [
    "sum(p.numel() for p in decoder.parameters() if p.requires_grad)"
   ]
  },
  {
   "cell_type": "code",
   "execution_count": 9,
   "metadata": {
    "cellId": "wxjt0eica9gi1fbffirtp",
    "execution": {
     "iopub.execute_input": "2023-11-28T19:59:56.806918761Z",
     "iopub.status.busy": "2023-11-28T19:59:57.796122Z",
     "iopub.status.idle": "2023-11-28T19:59:57.835867Z",
     "shell.execute_reply": "2023-11-28T19:59:57.835215Z",
     "shell.execute_reply.started": "2023-11-28T19:59:57.796557Z"
    },
    "id": "TBrxzIvdzj0r"
   },
   "outputs": [],
   "source": [
    "#!g2.1\n",
    "num_workers = 2\n",
    "lr = 1e-3\n",
    "optimizer = torch.optim.AdamW(decoder.parameters(), lr=lr, betas=(0.9, 0.95), weight_decay=0)\n",
    "scheduler = torch.optim.lr_scheduler.OneCycleLR(optimizer=optimizer, max_lr=lr, total_steps=9600, pct_start=0.1, final_div_factor=10, div_factor=10)\n",
    "train_loader = DataLoader(\n",
    "    train_dataset,\n",
    "    batch_size=512,\n",
    "    shuffle=True,\n",
    "    drop_last=True,\n",
    "    num_workers=num_workers,\n",
    "    pin_memory=True\n",
    ")\n",
    "\n",
    "val_loader = DataLoader(\n",
    "    val_dataset,\n",
    "    batch_size=512,\n",
    "    shuffle=False,\n",
    "    num_workers=num_workers\n",
    ")"
   ]
  },
  {
   "cell_type": "code",
   "execution_count": 10,
   "metadata": {
    "cellId": "28ds5prws1keg8s2vc76ns",
    "execution": {
     "iopub.execute_input": "2023-11-28T20:00:01.119439890Z",
     "iopub.status.busy": "2023-11-28T20:00:02.163840Z",
     "iopub.status.idle": "2023-11-28T20:00:02.214390Z",
     "shell.execute_reply": "2023-11-28T20:00:02.213705Z",
     "shell.execute_reply.started": "2023-11-28T20:00:02.164183Z"
    }
   },
   "outputs": [],
   "source": [
    "#!g2.1\n",
    "def _save_checkpoint(model, optimizer, epoch, save_best=False, only_best=False):\n",
    "        \"\"\"\n",
    "        Saving checkpoints\n",
    "\n",
    "        :param epoch: current epoch number\n",
    "        :param save_best: if True, rename the saved checkpoint to 'model_best.pth'\n",
    "        \"\"\"\n",
    "        arch = type(model).__name__\n",
    "        state = {\n",
    "            \"arch\": arch,\n",
    "            \"epoch\": epoch,\n",
    "            \"state_dict\": model.state_dict(),\n",
    "            \"optimizer\": optimizer.state_dict(),\n",
    "        }\n",
    "        filename = str(\"checkpoint-epoch{}.pth\".format(epoch))\n",
    "        if not (only_best and save_best):\n",
    "            torch.save(state, filename)\n",
    "#             logger.info(\"Saving checkpoint: {} ...\".format(filename))\n",
    "        if save_best:\n",
    "            best_path = str(\"model_best.pth\")\n",
    "            torch.save(state, best_path)\n",
    "#             logger.info(\"Saving current best: model_best.pth ...\")"
   ]
  },
  {
   "cell_type": "code",
   "execution_count": 54,
   "metadata": {
    "cellId": "mjh554z9mcgabwwnhy1bdq"
   },
   "outputs": [],
   "source": [
    "#!g2.1\n",
    "_save_checkpoint(decoder, optimizer, 4)"
   ]
  },
  {
   "cell_type": "markdown",
   "metadata": {},
   "source": [
    "**Генерация историй**"
   ]
  },
  {
   "cell_type": "code",
   "execution_count": 8,
   "metadata": {
    "cellId": "jzmy7eco5ppg83l7ml9fhg",
    "execution": {
     "iopub.execute_input": "2023-11-28T19:55:56.720619960Z",
     "iopub.status.busy": "2023-11-28T19:55:57.678969Z",
     "iopub.status.idle": "2023-11-28T19:55:57.822779Z",
     "shell.execute_reply": "2023-11-28T19:55:57.822127Z",
     "shell.execute_reply.started": "2023-11-28T19:55:57.679357Z"
    }
   },
   "outputs": [
    {
     "name": "stdout",
     "output_type": "stream",
     "text": [
      "The autoreload extension is already loaded. To reload it, use:\n",
      "  %reload_ext autoreload\n"
     ]
    }
   ],
   "source": [
    "#!g2.1\n",
    "%load_ext autoreload\n",
    "%autoreload 2"
   ]
  },
  {
   "cell_type": "code",
   "execution_count": 48,
   "metadata": {
    "cellId": "qy2loosk8xfp07eelhwys",
    "execution": {
     "iopub.execute_input": "2023-11-29T10:33:10.254559418Z",
     "iopub.status.busy": "2023-11-29T10:33:41.091317Z",
     "iopub.status.idle": "2023-11-29T10:34:11.973356Z",
     "shell.execute_reply": "2023-11-29T10:34:11.972620Z",
     "shell.execute_reply.started": "2023-11-29T10:33:41.092100Z"
    }
   },
   "outputs": [],
   "source": [
    "tokenizer = spm.SentencePieceProcessor(model_file=\"tiny_stories_5k.model\")\n",
    "d = torch.load('checkpoint-epoch4.pth', map_location=torch.device('cpu'))"
   ]
  },
  {
   "cell_type": "code",
   "execution_count": 49,
   "metadata": {
    "cellId": "0xty3mqpse6itemaysxt5u",
    "execution": {
     "iopub.execute_input": "2023-11-29T10:34:18.769790480Z",
     "iopub.status.busy": "2023-11-29T10:34:19.765304Z",
     "iopub.status.idle": "2023-11-29T10:34:21.036152Z",
     "shell.execute_reply": "2023-11-29T10:34:21.035400Z",
     "shell.execute_reply.started": "2023-11-29T10:34:19.766179Z"
    }
   },
   "outputs": [
    {
     "data": {
      "text/plain": [
       "<All keys matched successfully>"
      ]
     },
     "execution_count": 49,
     "metadata": {},
     "output_type": "execute_result"
    }
   ],
   "source": [
    "boutique_lm = BoutiqueLM(\n",
    "    vocab_stories_size=5000,\n",
    "    num_layers=8,\n",
    "    num_heads=8,\n",
    "    hidden_dim=512,\n",
    "    activation=nn.GELU,\n",
    "    max_len=10000\n",
    ")\n",
    "\n",
    "boutique_lm.load_state_dict(d['state_dict'])"
   ]
  }
 ],
 "metadata": {
  "colab": {
   "provenance": []
  },
  "kernelspec": {
   "display_name": "Python 3",
   "language": "python",
   "name": "python3"
  },
  "language_info": {
   "codemirror_mode": {
    "name": "ipython",
    "version": 3
   },
   "file_extension": ".py",
   "mimetype": "text/x-python",
   "name": "python",
   "nbconvert_exporter": "python",
   "pygments_lexer": "ipython3",
   "version": "3.10.12"
  },
  "notebookId": "81a795a0-29c1-4869-a070-5a252b92a4ca",
  "notebookPath": "bhw1.ipynb"
 },
 "nbformat": 4,
 "nbformat_minor": 4
}
