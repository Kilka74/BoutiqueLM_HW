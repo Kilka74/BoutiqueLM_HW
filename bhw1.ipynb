{
  "cells": [
    {
      "cell_type": "code",
      "execution_count": 1,
      "metadata": {
        "colab": {
          "base_uri": "https://localhost:8080/"
        },
        "id": "CUxDJEBB0M6K",
        "outputId": "f1d4a456-eb99-426e-cc13-aef47f833be4"
      },
      "outputs": [
        {
          "name": "stdout",
          "output_type": "stream",
          "text": [
            "Defaulting to user installation because normal site-packages is not writeable\n",
            "Requirement already satisfied: sentencepiece in /home/kolya/.local/lib/python3.10/site-packages (0.1.97)\n",
            "Defaulting to user installation because normal site-packages is not writeable\n",
            "Requirement already satisfied: wandb in /home/kolya/.local/lib/python3.10/site-packages (0.13.10)\n",
            "Requirement already satisfied: Click!=8.0.0,>=7.0 in /usr/lib/python3/dist-packages (from wandb) (8.0.3)\n",
            "Requirement already satisfied: requests<3,>=2.0.0 in /home/kolya/.local/lib/python3.10/site-packages (from wandb) (2.31.0)\n",
            "Requirement already satisfied: pathtools in /home/kolya/.local/lib/python3.10/site-packages (from wandb) (0.1.2)\n",
            "Requirement already satisfied: appdirs>=1.4.3 in /usr/lib/python3/dist-packages (from wandb) (1.4.4)\n",
            "Requirement already satisfied: GitPython>=1.0.0 in /home/kolya/.local/lib/python3.10/site-packages (from wandb) (3.1.31)\n",
            "Requirement already satisfied: protobuf!=4.21.0,<5,>=3.19.0 in /home/kolya/.local/lib/python3.10/site-packages (from wandb) (4.22.0)\n",
            "Requirement already satisfied: setproctitle in /home/kolya/.local/lib/python3.10/site-packages (from wandb) (1.3.2)\n",
            "Requirement already satisfied: docker-pycreds>=0.4.0 in /home/kolya/.local/lib/python3.10/site-packages (from wandb) (0.4.0)\n",
            "Requirement already satisfied: setuptools in /usr/lib/python3/dist-packages (from wandb) (59.6.0)\n",
            "Requirement already satisfied: sentry-sdk>=1.0.0 in /home/kolya/.local/lib/python3.10/site-packages (from wandb) (1.15.0)\n",
            "Requirement already satisfied: psutil>=5.0.0 in /home/kolya/.local/lib/python3.10/site-packages (from wandb) (5.9.4)\n",
            "Requirement already satisfied: PyYAML in /usr/lib/python3/dist-packages (from wandb) (5.4.1)\n",
            "Requirement already satisfied: six>=1.4.0 in /usr/lib/python3/dist-packages (from docker-pycreds>=0.4.0->wandb) (1.16.0)\n",
            "Requirement already satisfied: gitdb<5,>=4.0.1 in /home/kolya/.local/lib/python3.10/site-packages (from GitPython>=1.0.0->wandb) (4.0.10)\n",
            "Requirement already satisfied: urllib3<3,>=1.21.1 in /home/kolya/.local/lib/python3.10/site-packages (from requests<3,>=2.0.0->wandb) (1.26.14)\n",
            "Requirement already satisfied: idna<4,>=2.5 in /usr/lib/python3/dist-packages (from requests<3,>=2.0.0->wandb) (3.3)\n",
            "Requirement already satisfied: charset-normalizer<4,>=2 in /home/kolya/.local/lib/python3.10/site-packages (from requests<3,>=2.0.0->wandb) (3.0.1)\n",
            "Requirement already satisfied: certifi>=2017.4.17 in /usr/lib/python3/dist-packages (from requests<3,>=2.0.0->wandb) (2020.6.20)\n",
            "Requirement already satisfied: smmap<6,>=3.0.1 in /home/kolya/.local/lib/python3.10/site-packages (from gitdb<5,>=4.0.1->GitPython>=1.0.0->wandb) (5.0.0)\n"
          ]
        }
      ],
      "source": [
        "!pip install sentencepiece\n",
        "!pip install wandb"
      ]
    },
    {
      "cell_type": "code",
      "execution_count": 2,
      "metadata": {
        "id": "z_ZKvWnmzj0b"
      },
      "outputs": [],
      "source": [
        "import json\n",
        "from torch.utils.data import DataLoader\n",
        "import sentencepiece as spm\n",
        "from dataset import TinyStoriesDataset\n",
        "from train import *\n",
        "from model import *\n",
        "import torch\n",
        "import matplotlib.pyplot as plt"
      ]
    },
    {
      "cell_type": "code",
      "execution_count": 3,
      "metadata": {
        "id": "NE4WppAVzj0g"
      },
      "outputs": [],
      "source": [
        "%load_ext autoreload\n",
        "%autoreload 2"
      ]
    },
    {
      "cell_type": "code",
      "execution_count": 4,
      "metadata": {
        "colab": {
          "base_uri": "https://localhost:8080/"
        },
        "id": "o2pMBZtpzj0i",
        "outputId": "edaf5076-b041-4e45-ee4f-c03f4675866e"
      },
      "outputs": [
        {
          "data": {
            "text/plain": [
              "{'story': '\\n\\nLily and Ben are friends. They like to play in the park. One day, they see a big tree with a swing. Lily wants to try the swing. She runs to the tree and climbs on the swing.\\n\"Push me, Ben!\" she says. Ben pushes her gently. Lily feels happy. She swings higher and higher. She laughs and shouts.\\nBen watches Lily. He thinks she is cute. He wants to swing too. He waits for Lily to stop. But Lily does not stop. She swings faster and faster. She is having too much fun.\\n\"Can I swing too, Lily?\" Ben asks. Lily does not hear him. She is too busy swinging. Ben feels sad. He walks away.\\nLily swings so high that she loses her grip. She falls off the swing. She lands on the ground. She hurts her foot. She cries.\\n\"Ow, ow, ow!\" she says. She looks for Ben. She wants him to help her. But Ben is not there. He is gone.\\nLily feels sorry. She wishes she had shared the swing with Ben. She wishes he was there to hug her. She limps to the tree. She sees something hanging from a branch. It is Ben\\'s hat. He left it for her.\\nLily smiles. She thinks Ben is nice. She puts on his hat. She hopes he will come back. She wants to say sorry. She wants to be friends again.',\n",
              " 'instruction': {'prompt:': 'Write a short story (3-5 paragraphs) which only uses very simple words that a 3 year old child would understand. The story should use the verb \"hang\", the noun \"foot\" and the adjective \"cute\". The story has the following features: the story should contain at least one dialogue. Remember to only use simple words!\\n\\nPossible story:',\n",
              "  'words': ['hang', 'foot', 'cute'],\n",
              "  'features': ['Dialogue']},\n",
              " 'summary': 'Lily and Ben play in the park and Lily gets too caught up in swinging, causing Ben to leave. Lily falls off the swing and hurts herself, but Ben leaves his hat for her as a kind gesture.',\n",
              " 'source': 'GPT-4'}"
            ]
          },
          "execution_count": 4,
          "metadata": {},
          "output_type": "execute_result"
        }
      ],
      "source": [
        "with open(\"jsons/data00.json\") as f:\n",
        "    string = f.readline()\n",
        "d = json.loads(string)\n",
        "d[0]\n"
      ]
    },
    {
      "cell_type": "code",
      "execution_count": 19,
      "metadata": {
        "id": "Zmwy41bWzj0m"
      },
      "outputs": [
        {
          "name": "stderr",
          "output_type": "stream",
          "text": [
            "sentencepiece_trainer.cc(77) LOG(INFO) Starts training with : \n",
            "trainer_spec {\n",
            "  input: small_dataset\n",
            "  input_format: \n",
            "  model_prefix: small_dataset\n",
            "  model_type: BPE\n",
            "  vocab_size: 1000\n",
            "  self_test_sample_size: 0\n",
            "  character_coverage: 0.9995\n",
            "  input_sentence_size: 0\n",
            "  shuffle_input_sentence: 1\n",
            "  seed_sentencepiece_size: 1000000\n",
            "  shrinking_factor: 0.75\n",
            "  max_sentence_length: 4192\n",
            "  num_threads: 16\n",
            "  num_sub_iterations: 2\n",
            "  max_sentencepiece_length: 16\n",
            "  split_by_unicode_script: 1\n",
            "  split_by_number: 1\n",
            "  split_by_whitespace: 1\n",
            "  split_digits: 0\n",
            "  treat_whitespace_as_suffix: 0\n",
            "  allow_whitespace_only_pieces: 0\n",
            "  required_chars: \n",
            "  byte_fallback: 0\n",
            "  vocabulary_output_piece_score: 1\n",
            "  train_extremely_large_corpus: 0\n",
            "  hard_vocab_limit: 1\n",
            "  use_all_vocab: 0\n",
            "  unk_id: 3\n",
            "  bos_id: 2\n",
            "  eos_id: 1\n",
            "  pad_id: 0\n",
            "  unk_piece: <unk>\n",
            "  bos_piece: <s>\n",
            "  eos_piece: </s>\n",
            "  pad_piece: <pad>\n",
            "  unk_surface:  ⁇ \n",
            "  enable_differential_privacy: 0\n",
            "  differential_privacy_noise_level: 0\n",
            "  differential_privacy_clipping_threshold: 0\n",
            "}\n",
            "normalizer_spec {\n",
            "  name: identity\n",
            "  add_dummy_prefix: 1\n",
            "  remove_extra_whitespaces: 1\n",
            "  escape_whitespaces: 1\n",
            "  normalization_rule_tsv: \n",
            "}\n",
            "denormalizer_spec {}\n",
            "trainer_interface.cc(350) LOG(INFO) SentenceIterator is not specified. Using MultiFileSentenceIterator.\n",
            "trainer_interface.cc(181) LOG(INFO) Loading corpus: small_dataset\n",
            "trainer_interface.cc(406) LOG(INFO) Loaded all 311 sentences\n",
            "trainer_interface.cc(422) LOG(INFO) Adding meta_piece: <pad>\n",
            "trainer_interface.cc(422) LOG(INFO) Adding meta_piece: </s>\n",
            "trainer_interface.cc(422) LOG(INFO) Adding meta_piece: <s>\n",
            "trainer_interface.cc(422) LOG(INFO) Adding meta_piece: <unk>\n",
            "trainer_interface.cc(427) LOG(INFO) Normalizing sentences...\n",
            "trainer_interface.cc(536) LOG(INFO) all chars count=76079\n",
            "trainer_interface.cc(547) LOG(INFO) Done: 99.9566% characters are covered.\n",
            "trainer_interface.cc(557) LOG(INFO) Alphabet size=51\n",
            "trainer_interface.cc(558) LOG(INFO) Final character coverage=0.999566\n",
            "trainer_interface.cc(590) LOG(INFO) Done! preprocessed 311 sentences.\n",
            "trainer_interface.cc(596) LOG(INFO) Tokenizing input sentences with whitespace: 311\n",
            "trainer_interface.cc(607) LOG(INFO) Done! 2420\n",
            "bpe_model_trainer.cc(167) LOG(INFO) Updating active symbols. max_freq=2226 min_freq=1\n",
            "bpe_model_trainer.cc(258) LOG(INFO) Added: freq=484 size=20 all=809 active=757 piece=▁l\n",
            "bpe_model_trainer.cc(258) LOG(INFO) Added: freq=286 size=40 all=1142 active=1090 piece=at\n",
            "bpe_model_trainer.cc(258) LOG(INFO) Added: freq=186 size=60 all=1456 active=1404 piece=▁She\n",
            "bpe_model_trainer.cc(258) LOG(INFO) Added: freq=138 size=80 all=1561 active=1509 piece=▁said\n",
            "bpe_model_trainer.cc(258) LOG(INFO) Added: freq=117 size=100 all=1696 active=1644 piece=se\n",
            "bpe_model_trainer.cc(167) LOG(INFO) Updating active symbols. max_freq=117 min_freq=3\n",
            "bpe_model_trainer.cc(258) LOG(INFO) Added: freq=98 size=120 all=1834 active=1124 piece=▁happ\n",
            "bpe_model_trainer.cc(258) LOG(INFO) Added: freq=81 size=140 all=1921 active=1211 piece=▁M\n",
            "bpe_model_trainer.cc(258) LOG(INFO) Added: freq=68 size=160 all=1993 active=1283 piece=▁too\n",
            "bpe_model_trainer.cc(258) LOG(INFO) Added: freq=55 size=180 all=2109 active=1399 piece=▁fun\n",
            "bpe_model_trainer.cc(258) LOG(INFO) Added: freq=48 size=200 all=2162 active=1452 piece=▁out\n",
            "bpe_model_trainer.cc(167) LOG(INFO) Updating active symbols. max_freq=47 min_freq=4\n",
            "bpe_model_trainer.cc(258) LOG(INFO) Added: freq=44 size=220 all=2197 active=1035 piece=▁back\n",
            "bpe_model_trainer.cc(258) LOG(INFO) Added: freq=37 size=240 all=2276 active=1114 piece=side\n",
            "bpe_model_trainer.cc(258) LOG(INFO) Added: freq=33 size=260 all=2350 active=1188 piece=▁would\n",
            "bpe_model_trainer.cc(258) LOG(INFO) Added: freq=29 size=280 all=2389 active=1227 piece=▁car\n",
            "bpe_model_trainer.cc(258) LOG(INFO) Added: freq=26 size=300 all=2460 active=1298 piece=ara\n",
            "bpe_model_trainer.cc(167) LOG(INFO) Updating active symbols. max_freq=26 min_freq=3\n",
            "bpe_model_trainer.cc(258) LOG(INFO) Added: freq=24 size=320 all=2515 active=1051 piece=▁dan\n",
            "bpe_model_trainer.cc(258) LOG(INFO) Added: freq=23 size=340 all=2552 active=1088 piece=▁from\n",
            "bpe_model_trainer.cc(258) LOG(INFO) Added: freq=21 size=360 all=2593 active=1129 piece=ild\n",
            "bpe_model_trainer.cc(258) LOG(INFO) Added: freq=20 size=380 all=2626 active=1162 piece=▁who\n",
            "bpe_model_trainer.cc(258) LOG(INFO) Added: freq=18 size=400 all=2663 active=1199 piece=nder\n",
            "bpe_model_trainer.cc(167) LOG(INFO) Updating active symbols. max_freq=18 min_freq=3\n",
            "bpe_model_trainer.cc(258) LOG(INFO) Added: freq=17 size=420 all=2697 active=1030 piece=fter\n",
            "bpe_model_trainer.cc(258) LOG(INFO) Added: freq=16 size=440 all=2720 active=1053 piece=▁loud\n",
            "bpe_model_trainer.cc(258) LOG(INFO) Added: freq=15 size=460 all=2763 active=1096 piece=▁then\n",
            "bpe_model_trainer.cc(258) LOG(INFO) Added: freq=14 size=480 all=2793 active=1126 piece=▁sur\n",
            "bpe_model_trainer.cc(258) LOG(INFO) Added: freq=13 size=500 all=2812 active=1145 piece=ving\n",
            "bpe_model_trainer.cc(167) LOG(INFO) Updating active symbols. max_freq=13 min_freq=3\n",
            "bpe_model_trainer.cc(258) LOG(INFO) Added: freq=13 size=520 all=2811 active=996 piece=▁walked\n",
            "bpe_model_trainer.cc(258) LOG(INFO) Added: freq=12 size=540 all=2860 active=1045 piece=▁bed\n",
            "bpe_model_trainer.cc(258) LOG(INFO) Added: freq=11 size=560 all=2856 active=1041 piece=ep\n",
            "bpe_model_trainer.cc(258) LOG(INFO) Added: freq=11 size=580 all=2891 active=1076 piece=▁down\n",
            "bpe_model_trainer.cc(258) LOG(INFO) Added: freq=10 size=600 all=2897 active=1082 piece=ump\n",
            "bpe_model_trainer.cc(167) LOG(INFO) Updating active symbols. max_freq=10 min_freq=2\n",
            "bpe_model_trainer.cc(258) LOG(INFO) Added: freq=10 size=620 all=2918 active=1015 piece=▁dance\n",
            "bpe_model_trainer.cc(258) LOG(INFO) Added: freq=9 size=640 all=2928 active=1025 piece=gry\n",
            "bpe_model_trainer.cc(258) LOG(INFO) Added: freq=9 size=660 all=2956 active=1053 piece=▁met\n",
            "bpe_model_trainer.cc(258) LOG(INFO) Added: freq=9 size=680 all=2957 active=1054 piece=▁herbs\n",
            "bpe_model_trainer.cc(258) LOG(INFO) Added: freq=8 size=700 all=2955 active=1052 piece=ble\n",
            "bpe_model_trainer.cc(167) LOG(INFO) Updating active symbols. max_freq=8 min_freq=2\n",
            "bpe_model_trainer.cc(258) LOG(INFO) Added: freq=8 size=720 all=2988 active=1030 piece=rmch\n",
            "bpe_model_trainer.cc(258) LOG(INFO) Added: freq=8 size=740 all=2992 active=1034 piece=▁high\n",
            "bpe_model_trainer.cc(258) LOG(INFO) Added: freq=8 size=760 all=2981 active=1023 piece=▁hugged\n",
            "bpe_model_trainer.cc(258) LOG(INFO) Added: freq=7 size=780 all=2981 active=1023 piece=lew\n",
            "bpe_model_trainer.cc(258) LOG(INFO) Added: freq=7 size=800 all=2994 active=1036 piece=thing\n",
            "bpe_model_trainer.cc(167) LOG(INFO) Updating active symbols. max_freq=7 min_freq=2\n",
            "bpe_model_trainer.cc(258) LOG(INFO) Added: freq=7 size=820 all=2982 active=987 piece=▁yummy\n",
            "bpe_model_trainer.cc(258) LOG(INFO) Added: freq=6 size=840 all=2969 active=974 piece=ey\n",
            "bpe_model_trainer.cc(258) LOG(INFO) Added: freq=6 size=860 all=3000 active=1005 piece=▁ad\n",
            "bpe_model_trainer.cc(258) LOG(INFO) Added: freq=6 size=880 all=3014 active=1019 piece=▁dif\n",
            "bpe_model_trainer.cc(258) LOG(INFO) Added: freq=6 size=900 all=3008 active=1013 piece=▁gone\n",
            "bpe_model_trainer.cc(167) LOG(INFO) Updating active symbols. max_freq=6 min_freq=1\n",
            "bpe_model_trainer.cc(258) LOG(INFO) Added: freq=6 size=920 all=2996 active=989 piece=member\n",
            "bpe_model_trainer.cc(258) LOG(INFO) Added: freq=6 size=940 all=2981 active=974 piece=▁making\n",
            "trainer_interface.cc(685) LOG(INFO) Saving model: small_dataset.model\n",
            "trainer_interface.cc(697) LOG(INFO) Saving vocabs: small_dataset.vocab\n"
          ]
        }
      ],
      "source": [
        "dataset_size = 100\n",
        "with open(\"jsons/data00.json\", \"r\") as g:\n",
        "    js = json.loads(g.readline())\n",
        "    with open(\"small_dataset\", 'w+') as f:\n",
        "        for i in range(dataset_size):\n",
        "            f.write(js[i][\"story\"])\n",
        "\n",
        "spm.SentencePieceTrainer.train(\n",
        "    input=\"small_dataset\",\n",
        "    model_prefix='small_dataset',\n",
        "    model_type='bpe',\n",
        "    vocab_size=1000,\n",
        "    normalization_rule_name='identity',\n",
        "    pad_id=0, eos_id=1, bos_id=2, unk_id=3\n",
        ")\n",
        "tokenizer = spm.SentencePieceProcessor(model_file=\"small_dataset.model\")\n"
      ]
    },
    {
      "cell_type": "code",
      "execution_count": 20,
      "metadata": {},
      "outputs": [
        {
          "name": "stderr",
          "output_type": "stream",
          "text": [
            "100%|██████████| 100/100 [00:00<00:00, 1035.29it/s]\n"
          ]
        }
      ],
      "source": [
        "small_dataset = TinyStoriesDataset([\"jsons/data00.json\"], tokenizer, dataset_size=dataset_size)\n"
      ]
    },
    {
      "cell_type": "code",
      "execution_count": 11,
      "metadata": {
        "colab": {
          "base_uri": "https://localhost:8080/"
        },
        "id": "ibChoYRuzj0o",
        "outputId": "792b7879-527e-4492-9138-a7b0c74bef05"
      },
      "outputs": [
        {
          "name": "stderr",
          "output_type": "stream",
          "text": [
            "  0%|          | 0/100 [00:00<?, ?it/s]"
          ]
        },
        {
          "name": "stderr",
          "output_type": "stream",
          "text": [
            "100%|██████████| 100/100 [00:00<00:00, 1313.16it/s]\n"
          ]
        }
      ],
      "source": [
        "import torch\n",
        "import numpy as np\n",
        "from tqdm import tqdm\n",
        "# l = [\"Lily and Ben are friends.\", \"They like to play in the park\"]\n",
        "# seqs = [torch.tensor(tokenizer.encode(x, add_eos=True, add_bos=True), dtype=torch.int) for x in l]\n",
        "# seqs\n",
        "ls = []\n",
        "s = []\n",
        "for i in tqdm(range(len(small_dataset))):\n",
        "    ls.append(len(tokenizer.encode(small_dataset[i], add_eos=True, add_bos=True)))\n",
        "    s.append(len(small_dataset[i]))"
      ]
    },
    {
      "cell_type": "code",
      "execution_count": 12,
      "metadata": {},
      "outputs": [
        {
          "data": {
            "image/png": "[encoded data removed]",
            "text/plain": [
              "<Figure size 640x480 with 1 Axes>"
            ]
          },
          "metadata": {},
          "output_type": "display_data"
        }
      ],
      "source": [
        "plt.hist(ls, bins=50)\n",
        "plt.show()"
      ]
    },
    {
      "cell_type": "code",
      "execution_count": 13,
      "metadata": {},
      "outputs": [
        {
          "name": "stdout",
          "output_type": "stream",
          "text": [
            "619.7329999999998\n"
          ]
        }
      ],
      "source": [
        "print(np.quantile(ls, 0.999))"
      ]
    },
    {
      "cell_type": "code",
      "execution_count": 16,
      "metadata": {
        "id": "f4F_ie4-3OG6"
      },
      "outputs": [],
      "source": [
        "# device = torch.device(\"cuda:0\")"
      ]
    },
    {
      "cell_type": "code",
      "execution_count": 21,
      "metadata": {
        "id": "LyN6vxbYzj0q"
      },
      "outputs": [],
      "source": [
        "decoder = BoutiqueLM(\n",
        "    vocab_stories_size=1000,\n",
        "    num_layers=1,\n",
        "    num_heads=8,\n",
        "    hidden_dim=128,\n",
        "    activation=nn.GELU,\n",
        "    max_len=10000\n",
        ")"
      ]
    },
    {
      "cell_type": "code",
      "execution_count": 22,
      "metadata": {
        "colab": {
          "base_uri": "https://localhost:8080/"
        },
        "id": "cPa3A1aezj0q",
        "outputId": "be889fe1-9911-43e5-b177-27c78e654ced"
      },
      "outputs": [
        {
          "data": {
            "text/plain": [
              "453760"
            ]
          },
          "execution_count": 22,
          "metadata": {},
          "output_type": "execute_result"
        }
      ],
      "source": [
        "sum(p.numel() for p in decoder.parameters())"
      ]
    },
    {
      "cell_type": "code",
      "execution_count": 23,
      "metadata": {
        "id": "TBrxzIvdzj0r"
      },
      "outputs": [],
      "source": [
        "num_workers = 2\n",
        "optimizer = torch.optim.Adam(decoder.parameters(), lr=1e-3)\n",
        "scheduler = torch.optim.lr_scheduler.ConstantLR(optimizer=optimizer, factor=1., total_iters=1)\n",
        "train_loader = DataLoader(\n",
        "    small_dataset,\n",
        "    batch_size=100,\n",
        "    shuffle=True,\n",
        "    drop_last=True,\n",
        "    num_workers=num_workers,\n",
        "    pin_memory=True\n",
        ")\n",
        "\n",
        "val_loader = DataLoader(\n",
        "    small_dataset,\n",
        "    batch_size=100,\n",
        "    shuffle=False,\n",
        "    num_workers=num_workers\n",
        ")"
      ]
    },
    {
      "cell_type": "code",
      "execution_count": 24,
      "metadata": {
        "colab": {
          "base_uri": "https://localhost:8080/",
          "height": 599
        },
        "id": "kyOi1IsFzj0r",
        "outputId": "a0cebb6c-b361-43de-8572-7ab013d4e7d6"
      },
      "outputs": [
        {
          "data": {
            "image/png": "[encoded data removed]",
            "text/plain": [
              "<Figure size 1800x600 with 2 Axes>"
            ]
          },
          "metadata": {},
          "output_type": "display_data"
        }
      ],
      "source": [
        "train(\n",
        "    model=decoder,\n",
        "    num_epochs=150,\n",
        "    optimizer=optimizer,\n",
        "    scheduler=scheduler,\n",
        "    train_loader=train_loader,\n",
        "    val_loader=val_loader,\n",
        "    # device=torch.device(\"cuda:0\")\n",
        ")"
      ]
    }
  ],
  "metadata": {
    "colab": {
      "provenance": []
    },
    "kernelspec": {
      "display_name": "Python 3",
      "name": "python3"
    },
    "language_info": {
      "codemirror_mode": {
        "name": "ipython",
        "version": 3
      },
      "file_extension": ".py",
      "mimetype": "text/x-python",
      "name": "python",
      "nbconvert_exporter": "python",
      "pygments_lexer": "ipython3",
      "version": "3.10.12"
    },
    "orig_nbformat": 4
  },
  "nbformat": 4,
  "nbformat_minor": 0
}
